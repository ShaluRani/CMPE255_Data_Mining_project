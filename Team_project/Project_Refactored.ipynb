{
 "cells": [
  {
   "cell_type": "code",
   "execution_count": 198,
   "metadata": {},
   "outputs": [],
   "source": [
    "import os\n",
    "from glob import glob\n",
    "import pandas as pd\n",
    "import numpy as np"
   ]
  },
  {
   "cell_type": "code",
   "execution_count": 199,
   "metadata": {},
   "outputs": [],
   "source": [
    "root = 'data'\n",
    "pathCsv = os.path.join(root, 'HAM10000_metadata.csv')\n",
    "df = pd.read_csv(pathCsv)"
   ]
  },
  {
   "cell_type": "code",
   "execution_count": 200,
   "metadata": {},
   "outputs": [
    {
     "data": {
      "text/html": [
       "<div>\n",
       "<style scoped>\n",
       "    .dataframe tbody tr th:only-of-type {\n",
       "        vertical-align: middle;\n",
       "    }\n",
       "\n",
       "    .dataframe tbody tr th {\n",
       "        vertical-align: top;\n",
       "    }\n",
       "\n",
       "    .dataframe thead th {\n",
       "        text-align: right;\n",
       "    }\n",
       "</style>\n",
       "<table border=\"1\" class=\"dataframe\">\n",
       "  <thead>\n",
       "    <tr style=\"text-align: right;\">\n",
       "      <th></th>\n",
       "      <th>lesion_id</th>\n",
       "      <th>image_id</th>\n",
       "      <th>dx</th>\n",
       "      <th>dx_type</th>\n",
       "      <th>age</th>\n",
       "      <th>sex</th>\n",
       "      <th>localization</th>\n",
       "    </tr>\n",
       "  </thead>\n",
       "  <tbody>\n",
       "    <tr>\n",
       "      <th>0</th>\n",
       "      <td>HAM_0000118</td>\n",
       "      <td>ISIC_0027419</td>\n",
       "      <td>bkl</td>\n",
       "      <td>histo</td>\n",
       "      <td>80.0</td>\n",
       "      <td>male</td>\n",
       "      <td>scalp</td>\n",
       "    </tr>\n",
       "    <tr>\n",
       "      <th>1</th>\n",
       "      <td>HAM_0000118</td>\n",
       "      <td>ISIC_0025030</td>\n",
       "      <td>bkl</td>\n",
       "      <td>histo</td>\n",
       "      <td>80.0</td>\n",
       "      <td>male</td>\n",
       "      <td>scalp</td>\n",
       "    </tr>\n",
       "    <tr>\n",
       "      <th>2</th>\n",
       "      <td>HAM_0002730</td>\n",
       "      <td>ISIC_0026769</td>\n",
       "      <td>bkl</td>\n",
       "      <td>histo</td>\n",
       "      <td>80.0</td>\n",
       "      <td>male</td>\n",
       "      <td>scalp</td>\n",
       "    </tr>\n",
       "    <tr>\n",
       "      <th>3</th>\n",
       "      <td>HAM_0002730</td>\n",
       "      <td>ISIC_0025661</td>\n",
       "      <td>bkl</td>\n",
       "      <td>histo</td>\n",
       "      <td>80.0</td>\n",
       "      <td>male</td>\n",
       "      <td>scalp</td>\n",
       "    </tr>\n",
       "    <tr>\n",
       "      <th>4</th>\n",
       "      <td>HAM_0001466</td>\n",
       "      <td>ISIC_0031633</td>\n",
       "      <td>bkl</td>\n",
       "      <td>histo</td>\n",
       "      <td>75.0</td>\n",
       "      <td>male</td>\n",
       "      <td>ear</td>\n",
       "    </tr>\n",
       "  </tbody>\n",
       "</table>\n",
       "</div>"
      ],
      "text/plain": [
       "     lesion_id      image_id   dx dx_type   age   sex localization\n",
       "0  HAM_0000118  ISIC_0027419  bkl   histo  80.0  male        scalp\n",
       "1  HAM_0000118  ISIC_0025030  bkl   histo  80.0  male        scalp\n",
       "2  HAM_0002730  ISIC_0026769  bkl   histo  80.0  male        scalp\n",
       "3  HAM_0002730  ISIC_0025661  bkl   histo  80.0  male        scalp\n",
       "4  HAM_0001466  ISIC_0031633  bkl   histo  75.0  male          ear"
      ]
     },
     "execution_count": 200,
     "metadata": {},
     "output_type": "execute_result"
    }
   ],
   "source": [
    "df.head()"
   ]
  },
  {
   "cell_type": "code",
   "execution_count": 201,
   "metadata": {},
   "outputs": [
    {
     "data": {
      "text/plain": [
       "lesion_id        0\n",
       "image_id         0\n",
       "dx               0\n",
       "dx_type          0\n",
       "age             57\n",
       "sex              0\n",
       "localization     0\n",
       "dtype: int64"
      ]
     },
     "execution_count": 201,
     "metadata": {},
     "output_type": "execute_result"
    }
   ],
   "source": [
    "df.isnull().sum()"
   ]
  },
  {
   "cell_type": "code",
   "execution_count": 202,
   "metadata": {},
   "outputs": [
    {
     "data": {
      "text/plain": [
       "lesion_id       0\n",
       "image_id        0\n",
       "dx              0\n",
       "dx_type         0\n",
       "age             0\n",
       "sex             0\n",
       "localization    0\n",
       "dtype: int64"
      ]
     },
     "execution_count": 202,
     "metadata": {},
     "output_type": "execute_result"
    }
   ],
   "source": [
    "df['age'].fillna((df['age'].mean()), inplace=True)\n",
    "df.isnull().sum()"
   ]
  },
  {
   "cell_type": "code",
   "execution_count": 203,
   "metadata": {},
   "outputs": [],
   "source": [
    "df['Class'] = pd.Categorical(df['dx']).codes\n",
    "\n",
    "Path = {}\n",
    "for item in glob(os.path.join(root, 'reshaped', '*.jpg')):\n",
    "    filename = os.path.splitext(os.path.basename(item))[0]\n",
    "    Path[filename] = item\n",
    "\n",
    "df['path'] = df['image_id'].map(Path.get)"
   ]
  },
  {
   "cell_type": "code",
   "execution_count": 204,
   "metadata": {},
   "outputs": [
    {
     "data": {
      "text/html": [
       "<div>\n",
       "<style scoped>\n",
       "    .dataframe tbody tr th:only-of-type {\n",
       "        vertical-align: middle;\n",
       "    }\n",
       "\n",
       "    .dataframe tbody tr th {\n",
       "        vertical-align: top;\n",
       "    }\n",
       "\n",
       "    .dataframe thead th {\n",
       "        text-align: right;\n",
       "    }\n",
       "</style>\n",
       "<table border=\"1\" class=\"dataframe\">\n",
       "  <thead>\n",
       "    <tr style=\"text-align: right;\">\n",
       "      <th></th>\n",
       "      <th>lesion_id</th>\n",
       "      <th>image_id</th>\n",
       "      <th>dx</th>\n",
       "      <th>dx_type</th>\n",
       "      <th>age</th>\n",
       "      <th>sex</th>\n",
       "      <th>localization</th>\n",
       "      <th>Class</th>\n",
       "      <th>path</th>\n",
       "    </tr>\n",
       "  </thead>\n",
       "  <tbody>\n",
       "    <tr>\n",
       "      <th>0</th>\n",
       "      <td>HAM_0000118</td>\n",
       "      <td>ISIC_0027419</td>\n",
       "      <td>bkl</td>\n",
       "      <td>histo</td>\n",
       "      <td>80.0</td>\n",
       "      <td>male</td>\n",
       "      <td>scalp</td>\n",
       "      <td>2</td>\n",
       "      <td>data/reshaped/ISIC_0027419.jpg</td>\n",
       "    </tr>\n",
       "    <tr>\n",
       "      <th>1</th>\n",
       "      <td>HAM_0000118</td>\n",
       "      <td>ISIC_0025030</td>\n",
       "      <td>bkl</td>\n",
       "      <td>histo</td>\n",
       "      <td>80.0</td>\n",
       "      <td>male</td>\n",
       "      <td>scalp</td>\n",
       "      <td>2</td>\n",
       "      <td>data/reshaped/ISIC_0025030.jpg</td>\n",
       "    </tr>\n",
       "    <tr>\n",
       "      <th>2</th>\n",
       "      <td>HAM_0002730</td>\n",
       "      <td>ISIC_0026769</td>\n",
       "      <td>bkl</td>\n",
       "      <td>histo</td>\n",
       "      <td>80.0</td>\n",
       "      <td>male</td>\n",
       "      <td>scalp</td>\n",
       "      <td>2</td>\n",
       "      <td>data/reshaped/ISIC_0026769.jpg</td>\n",
       "    </tr>\n",
       "    <tr>\n",
       "      <th>3</th>\n",
       "      <td>HAM_0002730</td>\n",
       "      <td>ISIC_0025661</td>\n",
       "      <td>bkl</td>\n",
       "      <td>histo</td>\n",
       "      <td>80.0</td>\n",
       "      <td>male</td>\n",
       "      <td>scalp</td>\n",
       "      <td>2</td>\n",
       "      <td>data/reshaped/ISIC_0025661.jpg</td>\n",
       "    </tr>\n",
       "    <tr>\n",
       "      <th>4</th>\n",
       "      <td>HAM_0001466</td>\n",
       "      <td>ISIC_0031633</td>\n",
       "      <td>bkl</td>\n",
       "      <td>histo</td>\n",
       "      <td>75.0</td>\n",
       "      <td>male</td>\n",
       "      <td>ear</td>\n",
       "      <td>2</td>\n",
       "      <td>data/reshaped/ISIC_0031633.jpg</td>\n",
       "    </tr>\n",
       "  </tbody>\n",
       "</table>\n",
       "</div>"
      ],
      "text/plain": [
       "     lesion_id      image_id   dx dx_type   age   sex localization  Class  \\\n",
       "0  HAM_0000118  ISIC_0027419  bkl   histo  80.0  male        scalp      2   \n",
       "1  HAM_0000118  ISIC_0025030  bkl   histo  80.0  male        scalp      2   \n",
       "2  HAM_0002730  ISIC_0026769  bkl   histo  80.0  male        scalp      2   \n",
       "3  HAM_0002730  ISIC_0025661  bkl   histo  80.0  male        scalp      2   \n",
       "4  HAM_0001466  ISIC_0031633  bkl   histo  75.0  male          ear      2   \n",
       "\n",
       "                             path  \n",
       "0  data/reshaped/ISIC_0027419.jpg  \n",
       "1  data/reshaped/ISIC_0025030.jpg  \n",
       "2  data/reshaped/ISIC_0026769.jpg  \n",
       "3  data/reshaped/ISIC_0025661.jpg  \n",
       "4  data/reshaped/ISIC_0031633.jpg  "
      ]
     },
     "execution_count": 204,
     "metadata": {},
     "output_type": "execute_result"
    }
   ],
   "source": [
    "df.head()"
   ]
  },
  {
   "cell_type": "code",
   "execution_count": 205,
   "metadata": {},
   "outputs": [
    {
     "data": {
      "text/html": [
       "<div>\n",
       "<style scoped>\n",
       "    .dataframe tbody tr th:only-of-type {\n",
       "        vertical-align: middle;\n",
       "    }\n",
       "\n",
       "    .dataframe tbody tr th {\n",
       "        vertical-align: top;\n",
       "    }\n",
       "\n",
       "    .dataframe thead th {\n",
       "        text-align: right;\n",
       "    }\n",
       "</style>\n",
       "<table border=\"1\" class=\"dataframe\">\n",
       "  <thead>\n",
       "    <tr style=\"text-align: right;\">\n",
       "      <th></th>\n",
       "      <th>lesion_id</th>\n",
       "      <th>image_id</th>\n",
       "      <th>dx</th>\n",
       "      <th>dx_type</th>\n",
       "      <th>age</th>\n",
       "      <th>sex</th>\n",
       "      <th>localization</th>\n",
       "      <th>Class</th>\n",
       "      <th>path</th>\n",
       "      <th>image</th>\n",
       "    </tr>\n",
       "  </thead>\n",
       "  <tbody>\n",
       "    <tr>\n",
       "      <th>0</th>\n",
       "      <td>HAM_0000118</td>\n",
       "      <td>ISIC_0027419</td>\n",
       "      <td>bkl</td>\n",
       "      <td>histo</td>\n",
       "      <td>80.0</td>\n",
       "      <td>male</td>\n",
       "      <td>scalp</td>\n",
       "      <td>2</td>\n",
       "      <td>data/reshaped/ISIC_0027419.jpg</td>\n",
       "      <td>[[[190, 155, 188], [190, 155, 188], [190, 154,...</td>\n",
       "    </tr>\n",
       "    <tr>\n",
       "      <th>1</th>\n",
       "      <td>HAM_0000118</td>\n",
       "      <td>ISIC_0025030</td>\n",
       "      <td>bkl</td>\n",
       "      <td>histo</td>\n",
       "      <td>80.0</td>\n",
       "      <td>male</td>\n",
       "      <td>scalp</td>\n",
       "      <td>2</td>\n",
       "      <td>data/reshaped/ISIC_0025030.jpg</td>\n",
       "      <td>[[[22, 15, 33], [20, 11, 30], [25, 13, 33], [3...</td>\n",
       "    </tr>\n",
       "    <tr>\n",
       "      <th>2</th>\n",
       "      <td>HAM_0002730</td>\n",
       "      <td>ISIC_0026769</td>\n",
       "      <td>bkl</td>\n",
       "      <td>histo</td>\n",
       "      <td>80.0</td>\n",
       "      <td>male</td>\n",
       "      <td>scalp</td>\n",
       "      <td>2</td>\n",
       "      <td>data/reshaped/ISIC_0026769.jpg</td>\n",
       "      <td>[[[175, 127, 141], [181, 131, 143], [192, 138,...</td>\n",
       "    </tr>\n",
       "    <tr>\n",
       "      <th>3</th>\n",
       "      <td>HAM_0002730</td>\n",
       "      <td>ISIC_0025661</td>\n",
       "      <td>bkl</td>\n",
       "      <td>histo</td>\n",
       "      <td>80.0</td>\n",
       "      <td>male</td>\n",
       "      <td>scalp</td>\n",
       "      <td>2</td>\n",
       "      <td>data/reshaped/ISIC_0025661.jpg</td>\n",
       "      <td>[[[29, 9, 18], [28, 9, 15], [44, 21, 27], [56,...</td>\n",
       "    </tr>\n",
       "    <tr>\n",
       "      <th>4</th>\n",
       "      <td>HAM_0001466</td>\n",
       "      <td>ISIC_0031633</td>\n",
       "      <td>bkl</td>\n",
       "      <td>histo</td>\n",
       "      <td>75.0</td>\n",
       "      <td>male</td>\n",
       "      <td>ear</td>\n",
       "      <td>2</td>\n",
       "      <td>data/reshaped/ISIC_0031633.jpg</td>\n",
       "      <td>[[[133, 87, 113], [151, 103, 129], [163, 115, ...</td>\n",
       "    </tr>\n",
       "  </tbody>\n",
       "</table>\n",
       "</div>"
      ],
      "text/plain": [
       "     lesion_id      image_id   dx dx_type   age   sex localization  Class  \\\n",
       "0  HAM_0000118  ISIC_0027419  bkl   histo  80.0  male        scalp      2   \n",
       "1  HAM_0000118  ISIC_0025030  bkl   histo  80.0  male        scalp      2   \n",
       "2  HAM_0002730  ISIC_0026769  bkl   histo  80.0  male        scalp      2   \n",
       "3  HAM_0002730  ISIC_0025661  bkl   histo  80.0  male        scalp      2   \n",
       "4  HAM_0001466  ISIC_0031633  bkl   histo  75.0  male          ear      2   \n",
       "\n",
       "                             path  \\\n",
       "0  data/reshaped/ISIC_0027419.jpg   \n",
       "1  data/reshaped/ISIC_0025030.jpg   \n",
       "2  data/reshaped/ISIC_0026769.jpg   \n",
       "3  data/reshaped/ISIC_0025661.jpg   \n",
       "4  data/reshaped/ISIC_0031633.jpg   \n",
       "\n",
       "                                               image  \n",
       "0  [[[190, 155, 188], [190, 155, 188], [190, 154,...  \n",
       "1  [[[22, 15, 33], [20, 11, 30], [25, 13, 33], [3...  \n",
       "2  [[[175, 127, 141], [181, 131, 143], [192, 138,...  \n",
       "3  [[[29, 9, 18], [28, 9, 15], [44, 21, 27], [56,...  \n",
       "4  [[[133, 87, 113], [151, 103, 129], [163, 115, ...  "
      ]
     },
     "execution_count": 205,
     "metadata": {},
     "output_type": "execute_result"
    }
   ],
   "source": [
    "from PIL import Image\n",
    "df['image'] = df['path'].map(lambda x: np.asarray(Image.open(x)))\n",
    "df.head()"
   ]
  },
  {
   "cell_type": "code",
   "execution_count": 206,
   "metadata": {},
   "outputs": [
    {
     "data": {
      "text/plain": [
       "nv       6705\n",
       "mel      1113\n",
       "bkl      1099\n",
       "bcc       514\n",
       "akiec     327\n",
       "vasc      142\n",
       "df        115\n",
       "Name: dx, dtype: int64"
      ]
     },
     "execution_count": 206,
     "metadata": {},
     "output_type": "execute_result"
    }
   ],
   "source": [
    "df['dx'].value_counts()"
   ]
  },
  {
   "cell_type": "code",
   "execution_count": 207,
   "metadata": {},
   "outputs": [
    {
     "data": {
      "text/html": [
       "<div>\n",
       "<style scoped>\n",
       "    .dataframe tbody tr th:only-of-type {\n",
       "        vertical-align: middle;\n",
       "    }\n",
       "\n",
       "    .dataframe tbody tr th {\n",
       "        vertical-align: top;\n",
       "    }\n",
       "\n",
       "    .dataframe thead th {\n",
       "        text-align: right;\n",
       "    }\n",
       "</style>\n",
       "<table border=\"1\" class=\"dataframe\">\n",
       "  <thead>\n",
       "    <tr style=\"text-align: right;\">\n",
       "      <th></th>\n",
       "      <th>lesion_id</th>\n",
       "      <th>image_id</th>\n",
       "      <th>dx</th>\n",
       "      <th>dx_type</th>\n",
       "      <th>age</th>\n",
       "      <th>sex</th>\n",
       "      <th>localization</th>\n",
       "      <th>Class</th>\n",
       "      <th>path</th>\n",
       "      <th>image</th>\n",
       "    </tr>\n",
       "  </thead>\n",
       "  <tbody>\n",
       "    <tr>\n",
       "      <th>1095</th>\n",
       "      <td>HAM_0005276</td>\n",
       "      <td>ISIC_0027008</td>\n",
       "      <td>df</td>\n",
       "      <td>histo</td>\n",
       "      <td>75.0</td>\n",
       "      <td>male</td>\n",
       "      <td>back</td>\n",
       "      <td>3</td>\n",
       "      <td>data/reshaped/ISIC_0027008.jpg</td>\n",
       "      <td>[[[155, 110, 105], [166, 121, 116], [178, 133,...</td>\n",
       "    </tr>\n",
       "    <tr>\n",
       "      <th>1096</th>\n",
       "      <td>HAM_0005276</td>\n",
       "      <td>ISIC_0028790</td>\n",
       "      <td>df</td>\n",
       "      <td>histo</td>\n",
       "      <td>75.0</td>\n",
       "      <td>male</td>\n",
       "      <td>back</td>\n",
       "      <td>3</td>\n",
       "      <td>data/reshaped/ISIC_0028790.jpg</td>\n",
       "      <td>[[[205, 159, 169], [212, 167, 174], [217, 170,...</td>\n",
       "    </tr>\n",
       "    <tr>\n",
       "      <th>1097</th>\n",
       "      <td>HAM_0004103</td>\n",
       "      <td>ISIC_0028880</td>\n",
       "      <td>df</td>\n",
       "      <td>histo</td>\n",
       "      <td>55.0</td>\n",
       "      <td>male</td>\n",
       "      <td>lower extremity</td>\n",
       "      <td>3</td>\n",
       "      <td>data/reshaped/ISIC_0028880.jpg</td>\n",
       "      <td>[[[221, 187, 212], [223, 189, 214], [223, 190,...</td>\n",
       "    </tr>\n",
       "    <tr>\n",
       "      <th>1098</th>\n",
       "      <td>HAM_0004103</td>\n",
       "      <td>ISIC_0031309</td>\n",
       "      <td>df</td>\n",
       "      <td>histo</td>\n",
       "      <td>55.0</td>\n",
       "      <td>male</td>\n",
       "      <td>lower extremity</td>\n",
       "      <td>3</td>\n",
       "      <td>data/reshaped/ISIC_0031309.jpg</td>\n",
       "      <td>[[[30, 14, 25], [46, 28, 40], [63, 45, 57], [8...</td>\n",
       "    </tr>\n",
       "    <tr>\n",
       "      <th>1099</th>\n",
       "      <td>HAM_0001164</td>\n",
       "      <td>ISIC_0030021</td>\n",
       "      <td>df</td>\n",
       "      <td>histo</td>\n",
       "      <td>50.0</td>\n",
       "      <td>female</td>\n",
       "      <td>upper extremity</td>\n",
       "      <td>3</td>\n",
       "      <td>data/reshaped/ISIC_0030021.jpg</td>\n",
       "      <td>[[[198, 155, 162], [198, 155, 162], [198, 155,...</td>\n",
       "    </tr>\n",
       "  </tbody>\n",
       "</table>\n",
       "</div>"
      ],
      "text/plain": [
       "        lesion_id      image_id  dx dx_type   age     sex     localization  \\\n",
       "1095  HAM_0005276  ISIC_0027008  df   histo  75.0    male             back   \n",
       "1096  HAM_0005276  ISIC_0028790  df   histo  75.0    male             back   \n",
       "1097  HAM_0004103  ISIC_0028880  df   histo  55.0    male  lower extremity   \n",
       "1098  HAM_0004103  ISIC_0031309  df   histo  55.0    male  lower extremity   \n",
       "1099  HAM_0001164  ISIC_0030021  df   histo  50.0  female  upper extremity   \n",
       "\n",
       "      Class                            path  \\\n",
       "1095      3  data/reshaped/ISIC_0027008.jpg   \n",
       "1096      3  data/reshaped/ISIC_0028790.jpg   \n",
       "1097      3  data/reshaped/ISIC_0028880.jpg   \n",
       "1098      3  data/reshaped/ISIC_0031309.jpg   \n",
       "1099      3  data/reshaped/ISIC_0030021.jpg   \n",
       "\n",
       "                                                  image  \n",
       "1095  [[[155, 110, 105], [166, 121, 116], [178, 133,...  \n",
       "1096  [[[205, 159, 169], [212, 167, 174], [217, 170,...  \n",
       "1097  [[[221, 187, 212], [223, 189, 214], [223, 190,...  \n",
       "1098  [[[30, 14, 25], [46, 28, 40], [63, 45, 57], [8...  \n",
       "1099  [[[198, 155, 162], [198, 155, 162], [198, 155,...  "
      ]
     },
     "execution_count": 207,
     "metadata": {},
     "output_type": "execute_result"
    }
   ],
   "source": [
    "df_nv = df[df.dx=='nv']\n",
    "df_mel = df[df.dx=='mel']\n",
    "df_bkl = df[df.dx=='bkl']\n",
    "df_bcc = df[df.dx=='bcc']\n",
    "df_akiec = df[df.dx=='akiec']\n",
    "df_vasc = df[df.dx=='vasc']\n",
    "df_df = df[df.dx=='df']\n",
    "df_df.head()"
   ]
  },
  {
   "cell_type": "code",
   "execution_count": 208,
   "metadata": {},
   "outputs": [],
   "source": [
    "from sklearn.utils import resample\n",
    "\n",
    "df_df_upsample = resample(df_df, \n",
    "                                 replace=True,     \n",
    "                                 n_samples=1000,    \n",
    "                                 random_state=123)\n",
    "df_nv_downsample = resample(df_nv, \n",
    "                                 replace=True,     \n",
    "                                 n_samples=1000,    \n",
    "                                 random_state=123)\n",
    "df_mel_upsample = resample(df_mel, \n",
    "                                 replace=True,     \n",
    "                                 n_samples=1000,    \n",
    "                                 random_state=123)\n",
    "df_bkl_upsample = resample(df_bkl, \n",
    "                                 replace=True,     \n",
    "                                 n_samples=1000,    \n",
    "                                 random_state=123)\n",
    "df_bcc_upsample = resample(df_bcc, \n",
    "                                 replace=True,     \n",
    "                                 n_samples=1000,    \n",
    "                                 random_state=123)\n",
    "df_akiec_upsample = resample(df_akiec, \n",
    "                                 replace=True,     \n",
    "                                 n_samples=1000,    \n",
    "                                 random_state=123)\n",
    "df_vasc_upsample = resample(df_vasc, \n",
    "                                 replace=True,     \n",
    "                                 n_samples=1000,    \n",
    "                                 random_state=123)\n",
    "\n"
   ]
  },
  {
   "cell_type": "code",
   "execution_count": 209,
   "metadata": {},
   "outputs": [
    {
     "data": {
      "text/plain": [
       "Index(['lesion_id', 'image_id', 'dx', 'dx_type', 'age', 'sex', 'localization',\n",
       "       'Class', 'path', 'image'],\n",
       "      dtype='object')"
      ]
     },
     "execution_count": 209,
     "metadata": {},
     "output_type": "execute_result"
    }
   ],
   "source": [
    "df.columns"
   ]
  },
  {
   "cell_type": "code",
   "execution_count": 210,
   "metadata": {},
   "outputs": [],
   "source": [
    "df_resampled = pd.DataFrame(columns=['lesion_id', 'image_id', 'dx', 'dx_type', 'age', 'sex', 'localization',\n",
    "        'path', 'image'],\n",
    "      dtype='object')"
   ]
  },
  {
   "cell_type": "code",
   "execution_count": 211,
   "metadata": {},
   "outputs": [
    {
     "data": {
      "text/plain": [
       "(0, 9)"
      ]
     },
     "execution_count": 211,
     "metadata": {},
     "output_type": "execute_result"
    }
   ],
   "source": [
    "df_resampled.shape"
   ]
  },
  {
   "cell_type": "code",
   "execution_count": 212,
   "metadata": {},
   "outputs": [
    {
     "name": "stderr",
     "output_type": "stream",
     "text": [
      "/Users/shalu/anaconda3/lib/python3.6/site-packages/ipykernel_launcher.py:1: FutureWarning: Sorting because non-concatenation axis is not aligned. A future version\n",
      "of pandas will change to not sort by default.\n",
      "\n",
      "To accept the future behavior, pass 'sort=True'.\n",
      "\n",
      "To retain the current behavior and silence the warning, pass sort=False\n",
      "\n",
      "  \"\"\"Entry point for launching an IPython kernel.\n"
     ]
    },
    {
     "data": {
      "text/plain": [
       "(1000, 10)"
      ]
     },
     "execution_count": 212,
     "metadata": {},
     "output_type": "execute_result"
    }
   ],
   "source": [
    "df_resampled = pd.concat([df_resampled, df_df_upsample])\n",
    "df_resampled.shape"
   ]
  },
  {
   "cell_type": "code",
   "execution_count": 213,
   "metadata": {},
   "outputs": [
    {
     "name": "stderr",
     "output_type": "stream",
     "text": [
      "/Users/shalu/anaconda3/lib/python3.6/site-packages/ipykernel_launcher.py:1: FutureWarning: Sorting because non-concatenation axis is not aligned. A future version\n",
      "of pandas will change to not sort by default.\n",
      "\n",
      "To accept the future behavior, pass 'sort=True'.\n",
      "\n",
      "To retain the current behavior and silence the warning, pass sort=False\n",
      "\n",
      "  \"\"\"Entry point for launching an IPython kernel.\n"
     ]
    },
    {
     "data": {
      "text/plain": [
       "(2000, 10)"
      ]
     },
     "execution_count": 213,
     "metadata": {},
     "output_type": "execute_result"
    }
   ],
   "source": [
    "df_resampled = pd.concat([df_resampled, df_nv_downsample])\n",
    "df_resampled.shape"
   ]
  },
  {
   "cell_type": "code",
   "execution_count": 214,
   "metadata": {},
   "outputs": [
    {
     "name": "stderr",
     "output_type": "stream",
     "text": [
      "/Users/shalu/anaconda3/lib/python3.6/site-packages/ipykernel_launcher.py:1: FutureWarning: Sorting because non-concatenation axis is not aligned. A future version\n",
      "of pandas will change to not sort by default.\n",
      "\n",
      "To accept the future behavior, pass 'sort=True'.\n",
      "\n",
      "To retain the current behavior and silence the warning, pass sort=False\n",
      "\n",
      "  \"\"\"Entry point for launching an IPython kernel.\n"
     ]
    },
    {
     "data": {
      "text/plain": [
       "(3000, 10)"
      ]
     },
     "execution_count": 214,
     "metadata": {},
     "output_type": "execute_result"
    }
   ],
   "source": [
    "df_resampled = pd.concat([df_resampled, df_mel_upsample])\n",
    "df_resampled.shape"
   ]
  },
  {
   "cell_type": "code",
   "execution_count": 215,
   "metadata": {},
   "outputs": [
    {
     "name": "stderr",
     "output_type": "stream",
     "text": [
      "/Users/shalu/anaconda3/lib/python3.6/site-packages/ipykernel_launcher.py:1: FutureWarning: Sorting because non-concatenation axis is not aligned. A future version\n",
      "of pandas will change to not sort by default.\n",
      "\n",
      "To accept the future behavior, pass 'sort=True'.\n",
      "\n",
      "To retain the current behavior and silence the warning, pass sort=False\n",
      "\n",
      "  \"\"\"Entry point for launching an IPython kernel.\n"
     ]
    },
    {
     "data": {
      "text/plain": [
       "(4000, 10)"
      ]
     },
     "execution_count": 215,
     "metadata": {},
     "output_type": "execute_result"
    }
   ],
   "source": [
    "df_resampled = pd.concat([df_resampled, df_bkl_upsample])\n",
    "df_resampled.shape"
   ]
  },
  {
   "cell_type": "code",
   "execution_count": 216,
   "metadata": {},
   "outputs": [
    {
     "name": "stderr",
     "output_type": "stream",
     "text": [
      "/Users/shalu/anaconda3/lib/python3.6/site-packages/ipykernel_launcher.py:1: FutureWarning: Sorting because non-concatenation axis is not aligned. A future version\n",
      "of pandas will change to not sort by default.\n",
      "\n",
      "To accept the future behavior, pass 'sort=True'.\n",
      "\n",
      "To retain the current behavior and silence the warning, pass sort=False\n",
      "\n",
      "  \"\"\"Entry point for launching an IPython kernel.\n"
     ]
    },
    {
     "data": {
      "text/plain": [
       "(5000, 10)"
      ]
     },
     "execution_count": 216,
     "metadata": {},
     "output_type": "execute_result"
    }
   ],
   "source": [
    "df_resampled = pd.concat([df_resampled, df_bcc_upsample])\n",
    "df_resampled.shape"
   ]
  },
  {
   "cell_type": "code",
   "execution_count": 217,
   "metadata": {},
   "outputs": [
    {
     "name": "stderr",
     "output_type": "stream",
     "text": [
      "/Users/shalu/anaconda3/lib/python3.6/site-packages/ipykernel_launcher.py:1: FutureWarning: Sorting because non-concatenation axis is not aligned. A future version\n",
      "of pandas will change to not sort by default.\n",
      "\n",
      "To accept the future behavior, pass 'sort=True'.\n",
      "\n",
      "To retain the current behavior and silence the warning, pass sort=False\n",
      "\n",
      "  \"\"\"Entry point for launching an IPython kernel.\n"
     ]
    },
    {
     "data": {
      "text/plain": [
       "(6000, 10)"
      ]
     },
     "execution_count": 217,
     "metadata": {},
     "output_type": "execute_result"
    }
   ],
   "source": [
    "df_resampled = pd.concat([df_resampled, df_akiec_upsample])\n",
    "df_resampled.shape"
   ]
  },
  {
   "cell_type": "code",
   "execution_count": 218,
   "metadata": {},
   "outputs": [
    {
     "name": "stderr",
     "output_type": "stream",
     "text": [
      "/Users/shalu/anaconda3/lib/python3.6/site-packages/ipykernel_launcher.py:1: FutureWarning: Sorting because non-concatenation axis is not aligned. A future version\n",
      "of pandas will change to not sort by default.\n",
      "\n",
      "To accept the future behavior, pass 'sort=True'.\n",
      "\n",
      "To retain the current behavior and silence the warning, pass sort=False\n",
      "\n",
      "  \"\"\"Entry point for launching an IPython kernel.\n"
     ]
    },
    {
     "data": {
      "text/plain": [
       "(7000, 10)"
      ]
     },
     "execution_count": 218,
     "metadata": {},
     "output_type": "execute_result"
    }
   ],
   "source": [
    "df_resampled = pd.concat([df_resampled, df_vasc_upsample])\n",
    "df_resampled.shape"
   ]
  },
  {
   "cell_type": "code",
   "execution_count": 219,
   "metadata": {},
   "outputs": [
    {
     "data": {
      "text/plain": [
       "vasc     1000\n",
       "bcc      1000\n",
       "mel      1000\n",
       "df       1000\n",
       "akiec    1000\n",
       "bkl      1000\n",
       "nv       1000\n",
       "Name: dx, dtype: int64"
      ]
     },
     "execution_count": 219,
     "metadata": {},
     "output_type": "execute_result"
    }
   ],
   "source": [
    "df = df_resampled\n",
    "df['dx'].value_counts()"
   ]
  },
  {
   "cell_type": "code",
   "execution_count": 220,
   "metadata": {},
   "outputs": [
    {
     "data": {
      "text/plain": [
       "(7000, 10)"
      ]
     },
     "execution_count": 220,
     "metadata": {},
     "output_type": "execute_result"
    }
   ],
   "source": [
    "df.shape"
   ]
  },
  {
   "cell_type": "code",
   "execution_count": 221,
   "metadata": {},
   "outputs": [
    {
     "data": {
      "text/html": [
       "<div>\n",
       "<style scoped>\n",
       "    .dataframe tbody tr th:only-of-type {\n",
       "        vertical-align: middle;\n",
       "    }\n",
       "\n",
       "    .dataframe tbody tr th {\n",
       "        vertical-align: top;\n",
       "    }\n",
       "\n",
       "    .dataframe thead th {\n",
       "        text-align: right;\n",
       "    }\n",
       "</style>\n",
       "<table border=\"1\" class=\"dataframe\">\n",
       "  <thead>\n",
       "    <tr style=\"text-align: right;\">\n",
       "      <th></th>\n",
       "      <th>Class</th>\n",
       "      <th>age</th>\n",
       "      <th>dx</th>\n",
       "      <th>dx_type</th>\n",
       "      <th>image</th>\n",
       "      <th>image_id</th>\n",
       "      <th>lesion_id</th>\n",
       "      <th>localization</th>\n",
       "      <th>path</th>\n",
       "      <th>sex</th>\n",
       "    </tr>\n",
       "  </thead>\n",
       "  <tbody>\n",
       "    <tr>\n",
       "      <th>1204</th>\n",
       "      <td>3.0</td>\n",
       "      <td>35.0</td>\n",
       "      <td>df</td>\n",
       "      <td>consensus</td>\n",
       "      <td>[[[235, 175, 187], [231, 171, 183], [231, 171,...</td>\n",
       "      <td>ISIC_0025314</td>\n",
       "      <td>HAM_0000757</td>\n",
       "      <td>lower extremity</td>\n",
       "      <td>data/reshaped/ISIC_0025314.jpg</td>\n",
       "      <td>female</td>\n",
       "    </tr>\n",
       "    <tr>\n",
       "      <th>1161</th>\n",
       "      <td>3.0</td>\n",
       "      <td>40.0</td>\n",
       "      <td>df</td>\n",
       "      <td>consensus</td>\n",
       "      <td>[[[185, 159, 198], [182, 156, 195], [182, 156,...</td>\n",
       "      <td>ISIC_0024330</td>\n",
       "      <td>HAM_0006188</td>\n",
       "      <td>lower extremity</td>\n",
       "      <td>data/reshaped/ISIC_0024330.jpg</td>\n",
       "      <td>male</td>\n",
       "    </tr>\n",
       "    <tr>\n",
       "      <th>1187</th>\n",
       "      <td>3.0</td>\n",
       "      <td>60.0</td>\n",
       "      <td>df</td>\n",
       "      <td>consensus</td>\n",
       "      <td>[[[189, 133, 136], [190, 134, 137], [192, 135,...</td>\n",
       "      <td>ISIC_0026471</td>\n",
       "      <td>HAM_0006787</td>\n",
       "      <td>lower extremity</td>\n",
       "      <td>data/reshaped/ISIC_0026471.jpg</td>\n",
       "      <td>male</td>\n",
       "    </tr>\n",
       "    <tr>\n",
       "      <th>1193</th>\n",
       "      <td>3.0</td>\n",
       "      <td>55.0</td>\n",
       "      <td>df</td>\n",
       "      <td>consensus</td>\n",
       "      <td>[[[228, 157, 163], [227, 156, 162], [228, 157,...</td>\n",
       "      <td>ISIC_0030665</td>\n",
       "      <td>HAM_0005359</td>\n",
       "      <td>lower extremity</td>\n",
       "      <td>data/reshaped/ISIC_0030665.jpg</td>\n",
       "      <td>female</td>\n",
       "    </tr>\n",
       "    <tr>\n",
       "      <th>1197</th>\n",
       "      <td>3.0</td>\n",
       "      <td>65.0</td>\n",
       "      <td>df</td>\n",
       "      <td>consensus</td>\n",
       "      <td>[[[220, 147, 164], [220, 147, 164], [221, 148,...</td>\n",
       "      <td>ISIC_0026629</td>\n",
       "      <td>HAM_0004065</td>\n",
       "      <td>lower extremity</td>\n",
       "      <td>data/reshaped/ISIC_0026629.jpg</td>\n",
       "      <td>female</td>\n",
       "    </tr>\n",
       "  </tbody>\n",
       "</table>\n",
       "</div>"
      ],
      "text/plain": [
       "      Class   age  dx    dx_type  \\\n",
       "1204    3.0  35.0  df  consensus   \n",
       "1161    3.0  40.0  df  consensus   \n",
       "1187    3.0  60.0  df  consensus   \n",
       "1193    3.0  55.0  df  consensus   \n",
       "1197    3.0  65.0  df  consensus   \n",
       "\n",
       "                                                  image      image_id  \\\n",
       "1204  [[[235, 175, 187], [231, 171, 183], [231, 171,...  ISIC_0025314   \n",
       "1161  [[[185, 159, 198], [182, 156, 195], [182, 156,...  ISIC_0024330   \n",
       "1187  [[[189, 133, 136], [190, 134, 137], [192, 135,...  ISIC_0026471   \n",
       "1193  [[[228, 157, 163], [227, 156, 162], [228, 157,...  ISIC_0030665   \n",
       "1197  [[[220, 147, 164], [220, 147, 164], [221, 148,...  ISIC_0026629   \n",
       "\n",
       "        lesion_id     localization                            path     sex  \n",
       "1204  HAM_0000757  lower extremity  data/reshaped/ISIC_0025314.jpg  female  \n",
       "1161  HAM_0006188  lower extremity  data/reshaped/ISIC_0024330.jpg    male  \n",
       "1187  HAM_0006787  lower extremity  data/reshaped/ISIC_0026471.jpg    male  \n",
       "1193  HAM_0005359  lower extremity  data/reshaped/ISIC_0030665.jpg  female  \n",
       "1197  HAM_0004065  lower extremity  data/reshaped/ISIC_0026629.jpg  female  "
      ]
     },
     "execution_count": 221,
     "metadata": {},
     "output_type": "execute_result"
    }
   ],
   "source": [
    "df.head()"
   ]
  },
  {
   "cell_type": "code",
   "execution_count": 222,
   "metadata": {},
   "outputs": [],
   "source": [
    "df.to_csv('saved.csv')"
   ]
  },
  {
   "cell_type": "code",
   "execution_count": 223,
   "metadata": {},
   "outputs": [
    {
     "name": "stdout",
     "output_type": "stream",
     "text": [
      "Dimensions of image: (75, 100, 3), number: 7000\n"
     ]
    }
   ],
   "source": [
    "temp = df['image'][1].shape\n",
    "count = 0\n",
    "for i in range(df.shape[0]):\n",
    "    count += 1\n",
    "print(\"Dimensions of image: {}, number: {}\".format(temp, count))\n",
    "    "
   ]
  },
  {
   "cell_type": "code",
   "execution_count": 224,
   "metadata": {},
   "outputs": [],
   "source": [
    "from sklearn.model_selection import train_test_split\n",
    "x=df.drop(['Class'],axis=1)\n",
    "y=df['Class']\n",
    "xTrain, xTest, yTrain, yTest  = train_test_split(x, y, test_size=0.20, random_state=42)"
   ]
  },
  {
   "cell_type": "code",
   "execution_count": 225,
   "metadata": {},
   "outputs": [],
   "source": [
    "x_train = np.asarray(xTrain['image'].tolist())\n",
    "x_test = np.asarray(xTest['image'].tolist())\n",
    "xTrainmean = np.mean(x_train)\n",
    "xTrainstd = np.std(x_train)\n",
    "xTestmean = np.mean(x_test)\n",
    "xTeststd = np.std(x_test)\n",
    "x_train = (x_train - xTrainmean)/xTrainstd\n",
    "x_test = (x_test - xTestmean)/xTeststd"
   ]
  },
  {
   "cell_type": "code",
   "execution_count": 226,
   "metadata": {},
   "outputs": [],
   "source": [
    "import keras\n",
    "from keras.utils.np_utils import to_categorical\n",
    "\n",
    "y_train = to_categorical(yTrain, num_classes = 7)\n",
    "y_test = to_categorical(yTest, num_classes = 7)"
   ]
  },
  {
   "cell_type": "code",
   "execution_count": 227,
   "metadata": {},
   "outputs": [],
   "source": [
    "np.save(\"test_data_x\", x_test)\n",
    "np.save(\"test_data_y\", yTest)"
   ]
  },
  {
   "cell_type": "code",
   "execution_count": 228,
   "metadata": {},
   "outputs": [],
   "source": [
    "x_train, x_validate, y_train, y_validate = train_test_split(x_train, y_train, test_size = 0.1, random_state = 2)\n",
    "x_train = x_train.reshape(x_train.shape[0], *(75, 100, 3))\n",
    "x_test = x_test.reshape(x_test.shape[0], *(75, 100, 3))"
   ]
  },
  {
   "cell_type": "code",
   "execution_count": 229,
   "metadata": {},
   "outputs": [],
   "source": [
    "x_validate = x_validate.reshape(x_validate.shape[0], *(75, 100, 3))"
   ]
  },
  {
   "cell_type": "code",
   "execution_count": 230,
   "metadata": {},
   "outputs": [
    {
     "name": "stdout",
     "output_type": "stream",
     "text": [
      "_________________________________________________________________\n",
      "Layer (type)                 Output Shape              Param #   \n",
      "=================================================================\n",
      "conv2d_25 (Conv2D)           (None, 75, 100, 32)       896       \n",
      "_________________________________________________________________\n",
      "conv2d_26 (Conv2D)           (None, 75, 100, 32)       9248      \n",
      "_________________________________________________________________\n",
      "max_pooling2d_13 (MaxPooling (None, 37, 50, 32)        0         \n",
      "_________________________________________________________________\n",
      "dropout_19 (Dropout)         (None, 37, 50, 32)        0         \n",
      "_________________________________________________________________\n",
      "conv2d_27 (Conv2D)           (None, 37, 50, 64)        18496     \n",
      "_________________________________________________________________\n",
      "conv2d_28 (Conv2D)           (None, 37, 50, 64)        36928     \n",
      "_________________________________________________________________\n",
      "max_pooling2d_14 (MaxPooling (None, 18, 25, 64)        0         \n",
      "_________________________________________________________________\n",
      "dropout_20 (Dropout)         (None, 18, 25, 64)        0         \n",
      "_________________________________________________________________\n",
      "flatten_7 (Flatten)          (None, 28800)             0         \n",
      "_________________________________________________________________\n",
      "dense_13 (Dense)             (None, 128)               3686528   \n",
      "_________________________________________________________________\n",
      "dropout_21 (Dropout)         (None, 128)               0         \n",
      "_________________________________________________________________\n",
      "dense_14 (Dense)             (None, 7)                 903       \n",
      "=================================================================\n",
      "Total params: 3,752,999\n",
      "Trainable params: 3,752,999\n",
      "Non-trainable params: 0\n",
      "_________________________________________________________________\n"
     ]
    }
   ],
   "source": [
    "from keras.models import Sequential\n",
    "from keras.layers import Dense, Dropout, Flatten, Conv2D, MaxPool2D\n",
    "import itertools\n",
    "from keras.optimizers import Adam\n",
    "from keras.preprocessing.image import ImageDataGenerator\n",
    "from keras.callbacks import ReduceLROnPlateau\n",
    "\n",
    "dimensions = (75, 100, 3)\n",
    "Classes = 7\n",
    "\n",
    "model = Sequential()\n",
    "\n",
    "model.add(Conv2D(32, (3, 3),activation='relu',padding = 'Same',input_shape=dimensions))\n",
    "model.add(Conv2D(32, (3, 3), activation='relu',padding = 'Same',))\n",
    "model.add(MaxPool2D(pool_size = (2, 2)))\n",
    "model.add(Dropout(0.25))\n",
    "\n",
    "model.add(Conv2D(64, (3, 3), activation='relu',padding = 'Same'))\n",
    "model.add(Conv2D(64, (3, 3), activation='relu',padding = 'Same'))\n",
    "model.add(MaxPool2D(pool_size=(2, 2)))\n",
    "model.add(Dropout(0.40))\n",
    "\n",
    "model.add(Flatten())\n",
    "model.add(Dense(128, activation='relu'))\n",
    "model.add(Dropout(0.5))\n",
    "model.add(Dense(Classes, activation='softmax'))\n",
    "model.summary()"
   ]
  },
  {
   "cell_type": "code",
   "execution_count": 231,
   "metadata": {},
   "outputs": [],
   "source": [
    "Info = ImageDataGenerator(\n",
    "        featurewise_center=False,\n",
    "        samplewise_center=False, \n",
    "        featurewise_std_normalization=False, \n",
    "        samplewise_std_normalization=False,\n",
    "        zca_whitening=False,\n",
    "        rotation_range=10, \n",
    "        zoom_range = 0.1,\n",
    "        width_shift_range=0.1,\n",
    "        height_shift_range=0.1, \n",
    "        horizontal_flip=False,\n",
    "        vertical_flip=False) \n",
    "\n",
    "Info.fit(x_train)"
   ]
  },
  {
   "cell_type": "code",
   "execution_count": null,
   "metadata": {},
   "outputs": [
    {
     "name": "stdout",
     "output_type": "stream",
     "text": [
      "Epoch 1/50\n",
      "504/504 [==============================] - 175s 348ms/step - loss: 1.7947 - acc: 0.2738 - val_loss: 1.4906 - val_acc: 0.4125\n",
      "Epoch 2/50\n",
      "504/504 [==============================] - 170s 338ms/step - loss: 1.5217 - acc: 0.4187 - val_loss: 1.2980 - val_acc: 0.5036\n",
      "Epoch 3/50\n",
      "504/504 [==============================] - 170s 337ms/step - loss: 1.3981 - acc: 0.4496 - val_loss: 1.2469 - val_acc: 0.5393\n",
      "Epoch 4/50\n",
      "504/504 [==============================] - 167s 330ms/step - loss: 1.3077 - acc: 0.4968 - val_loss: 1.2245 - val_acc: 0.5250\n",
      "Epoch 5/50\n",
      "504/504 [==============================] - 168s 333ms/step - loss: 1.2331 - acc: 0.5268 - val_loss: 1.1637 - val_acc: 0.5732\n",
      "Epoch 6/50\n",
      "504/504 [==============================] - 167s 331ms/step - loss: 1.1772 - acc: 0.5480 - val_loss: 1.0590 - val_acc: 0.5929\n",
      "Epoch 7/50\n",
      "504/504 [==============================] - 1787s 4s/step - loss: 1.1341 - acc: 0.5573 - val_loss: 0.9923 - val_acc: 0.6429\n",
      "Epoch 8/50\n",
      "504/504 [==============================] - 552s 1s/step - loss: 1.1036 - acc: 0.5861 - val_loss: 0.9747 - val_acc: 0.6339\n",
      "Epoch 9/50\n",
      "504/504 [==============================] - 163s 324ms/step - loss: 1.0391 - acc: 0.6014 - val_loss: 0.9759 - val_acc: 0.6375\n",
      "Epoch 10/50\n",
      "504/504 [==============================] - 169s 336ms/step - loss: 1.0247 - acc: 0.6063 - val_loss: 0.8935 - val_acc: 0.6750\n",
      "Epoch 11/50\n",
      "504/504 [==============================] - 169s 336ms/step - loss: 0.9797 - acc: 0.6204 - val_loss: 0.9415 - val_acc: 0.6571\n",
      "Epoch 12/50\n",
      "504/504 [==============================] - 158s 314ms/step - loss: 0.9814 - acc: 0.6250 - val_loss: 0.8330 - val_acc: 0.7071\n",
      "Epoch 13/50\n",
      "504/504 [==============================] - 156s 309ms/step - loss: 0.9711 - acc: 0.6264 - val_loss: 0.7983 - val_acc: 0.7143\n",
      "Epoch 14/50\n",
      "504/504 [==============================] - 161s 319ms/step - loss: 0.9340 - acc: 0.6446 - val_loss: 0.7711 - val_acc: 0.7429\n",
      "Epoch 15/50\n",
      "504/504 [==============================] - 165s 327ms/step - loss: 0.9103 - acc: 0.6591 - val_loss: 0.7217 - val_acc: 0.7393\n",
      "Epoch 16/50\n",
      "504/504 [==============================] - 165s 328ms/step - loss: 0.9099 - acc: 0.6571 - val_loss: 0.8001 - val_acc: 0.7179\n",
      "Epoch 17/50\n",
      "504/504 [==============================] - 665s 1s/step - loss: 0.8386 - acc: 0.6764 - val_loss: 0.7033 - val_acc: 0.7250\n",
      "Epoch 18/50\n",
      "504/504 [==============================] - 166s 330ms/step - loss: 0.8575 - acc: 0.6780 - val_loss: 0.7418 - val_acc: 0.7196\n",
      "Epoch 19/50\n",
      "504/504 [==============================] - 177s 352ms/step - loss: 0.8441 - acc: 0.6881 - val_loss: 0.6688 - val_acc: 0.7714\n",
      "Epoch 20/50\n",
      "205/504 [===========>..................] - ETA: 1:43 - loss: 0.7943 - acc: 0.7044"
     ]
    }
   ],
   "source": [
    "Adam_Optimizer = Adam(lr=0.001, beta_1=0.9, beta_2=0.999, epsilon=None, decay=0.0, amsgrad=False)\n",
    "#SGD_Optimizer = keras.optimizers.SGD(lr=0.01, momentum=0.0, decay=0.0, nesterov=False)\n",
    "model.compile(optimizer = Adam_Optimizer , loss = \"categorical_crossentropy\", metrics=[\"accuracy\"])\n",
    "Lap = 50 \n",
    "Volume = 10\n",
    "history = model.fit_generator(Info.flow(x_train,y_train, batch_size=Volume),\n",
    "                              epochs = Lap, validation_data = (x_validate,y_validate),\n",
    "                              verbose = 1, steps_per_epoch=x_train.shape[0] // Volume\n",
    "                             )"
   ]
  },
  {
   "cell_type": "code",
   "execution_count": null,
   "metadata": {},
   "outputs": [],
   "source": [
    "loss, accuracy = model.evaluate(x_test, y_test, verbose=1)\n",
    "loss_v, accuracy_v = model.evaluate(x_validate, y_validate, verbose=1)\n",
    "print(\"Validation: accuracy = %f  ;  loss_v = %f\" % (accuracy_v, loss_v))\n",
    "print(\"Test: accuracy = %f  ;  loss = %f\" % (accuracy, loss))\n",
    "model.save(\"model_1000samples_50.h5\")"
   ]
  },
  {
   "cell_type": "code",
   "execution_count": null,
   "metadata": {},
   "outputs": [],
   "source": [
    "#1. Function to plot model's validation loss and validation accuracy\n",
    "import matplotlib.pyplot as plt\n",
    "def plot_model_history(model_history):\n",
    "    fig, axs = plt.subplots(1,2,figsize=(15,5))\n",
    "    # summarize history for accuracy\n",
    "    axs[0].plot(range(1,len(model_history.history['acc'])+1),model_history.history['acc'])\n",
    "    axs[0].plot(range(1,len(model_history.history['val_acc'])+1),model_history.history['val_acc'])\n",
    "    axs[0].set_title('Model Accuracy')\n",
    "    axs[0].set_ylabel('Accuracy')\n",
    "    axs[0].set_xlabel('Epoch')\n",
    "    axs[0].set_xticks(np.arange(1,len(model_history.history['acc'])+1),len(model_history.history['acc'])/10)\n",
    "    axs[0].legend(['train', 'val'], loc='best')\n",
    "    # summarize history for loss\n",
    "    axs[1].plot(range(1,len(model_history.history['loss'])+1),model_history.history['loss'])\n",
    "    axs[1].plot(range(1,len(model_history.history['val_loss'])+1),model_history.history['val_loss'])\n",
    "    axs[1].set_title('Model Loss')\n",
    "    axs[1].set_ylabel('Loss')\n",
    "    axs[1].set_xlabel('Epoch')\n",
    "    axs[1].set_xticks(np.arange(1,len(model_history.history['loss'])+1),len(model_history.history['loss'])/10)\n",
    "    axs[1].legend(['train', 'val'], loc='best')\n",
    "    plt.show()"
   ]
  },
  {
   "cell_type": "code",
   "execution_count": null,
   "metadata": {},
   "outputs": [],
   "source": [
    "plot_model_history(history)"
   ]
  },
  {
   "cell_type": "code",
   "execution_count": null,
   "metadata": {},
   "outputs": [],
   "source": [
    "import matplotlib.pyplot as plt\n",
    "plt.imshow(x_test[86])\n",
    "plt.show()"
   ]
  },
  {
   "cell_type": "code",
   "execution_count": null,
   "metadata": {},
   "outputs": [],
   "source": [
    "#Testing Models\n",
    "from keras.models import load_model\n",
    "\n",
    "\n",
    "new_model1 = load_model('backups/model_1000samples_20.h5')\n",
    "prediction1 = new_model1.predict(x_test)\n",
    "print(np.argmax(prediction1[0]))\n",
    "loss, accuracy = new_model1.evaluate(x_test, y_test, verbose=1)\n",
    "loss_v, accuracy_v = new_model1.evaluate(x_validate, y_validate, verbose=1)\n",
    "print(\"Validation: accuracy = %f  ;  loss_v = %f\" % (accuracy_v, loss_v))\n",
    "print(\"Test: accuracy = %f  ;  loss = %f\" % (accuracy, loss))"
   ]
  },
  {
   "cell_type": "code",
   "execution_count": null,
   "metadata": {},
   "outputs": [],
   "source": [
    "new_model2 = load_model('backups/model_1500samples_75.h5')\n",
    "prediction2 = new_model2.predict(x_test)\n",
    "print(np.argmax(prediction2[0]))\n",
    "loss, accuracy = new_model2.evaluate(x_test, y_test, verbose=1)\n",
    "loss_v, accuracy_v = new_model2.evaluate(x_validate, y_validate, verbose=1)\n",
    "print(\"Validation: accuracy = %f  ;  loss_v = %f\" % (accuracy_v, loss_v))\n",
    "print(\"Test: accuracy = %f  ;  loss = %f\" % (accuracy, loss))"
   ]
  },
  {
   "cell_type": "code",
   "execution_count": null,
   "metadata": {},
   "outputs": [],
   "source": [
    "new_model3 = load_model('backups/model_1500samples_20.h5')\n",
    "prediction3 = new_model3.predict(x_test)\n",
    "print(np.argmax(prediction3[0]))\n",
    "loss, accuracy = new_model3.evaluate(x_test, y_test, verbose=1)\n",
    "loss_v, accuracy_v = new_model3.evaluate(x_validate, y_validate, verbose=1)\n",
    "print(\"Validation: accuracy = %f  ;  loss_v = %f\" % (accuracy_v, loss_v))\n",
    "print(\"Test: accuracy = %f  ;  loss = %f\" % (accuracy, loss))"
   ]
  },
  {
   "cell_type": "code",
   "execution_count": null,
   "metadata": {},
   "outputs": [],
   "source": [
    "new_model4 = load_model('backups/model_1500samples_20layers_4.h5')\n",
    "prediction4 = new_model4.predict(x_test)\n",
    "print(np.argmax(prediction4[0]))\n",
    "loss, accuracy = new_model4.evaluate(x_test, y_test, verbose=1)\n",
    "loss_v, accuracy_v = new_model4.evaluate(x_validate, y_validate, verbose=1)\n",
    "print(\"Validation: accuracy = %f  ;  loss_v = %f\" % (accuracy_v, loss_v))\n",
    "print(\"Test: accuracy = %f  ;  loss = %f\" % (accuracy, loss))"
   ]
  },
  {
   "cell_type": "code",
   "execution_count": null,
   "metadata": {},
   "outputs": [],
   "source": [
    "new_model5 = load_model('backups/initial_model.h5')\n",
    "prediction5 = new_model5.predict(x_test)\n",
    "print(np.argmax(prediction5[0]))\n",
    "loss, accuracy = new_model5.evaluate(x_test, y_test, verbose=1)\n",
    "loss_v, accuracy_v = new_model5.evaluate(x_validate, y_validate, verbose=1)\n",
    "print(\"Validation: accuracy = %f  ;  loss_v = %f\" % (accuracy_v, loss_v))\n",
    "print(\"Test: accuracy = %f  ;  loss = %f\" % (accuracy, loss))"
   ]
  },
  {
   "cell_type": "code",
   "execution_count": null,
   "metadata": {},
   "outputs": [],
   "source": [
    "new_model6 = load_model('model_1500samples_20_keras_SGD.h5')\n",
    "prediction6 = new_model6.predict(x_test)\n",
    "print(np.argmax(prediction6[0]))\n",
    "loss, accuracy = new_model6.evaluate(x_test, y_test, verbose=1)\n",
    "loss_v, accuracy_v = new_model6.evaluate(x_validate, y_validate, verbose=1)\n",
    "print(\"Validation: accuracy = %f  ;  loss_v = %f\" % (accuracy_v, loss_v))\n",
    "print(\"Test: accuracy = %f  ;  loss = %f\" % (accuracy, loss))"
   ]
  },
  {
   "cell_type": "code",
   "execution_count": null,
   "metadata": {},
   "outputs": [],
   "source": [
    "new_model7 = load_model('model_1500samples_50_keras_SGD.h5')\n",
    "prediction7 = new_model7.predict(x_test)\n",
    "print(np.argmax(prediction7[0]))\n",
    "loss, accuracy = new_model7.evaluate(x_test, y_test, verbose=1)\n",
    "loss_v, accuracy_v = new_model7.evaluate(x_validate, y_validate, verbose=1)\n",
    "print(\"Validation: accuracy = %f  ;  loss_v = %f\" % (accuracy_v, loss_v))\n",
    "print(\"Test: accuracy = %f  ;  loss = %f\" % (accuracy, loss))"
   ]
  },
  {
   "cell_type": "code",
   "execution_count": null,
   "metadata": {},
   "outputs": [],
   "source": [
    "new_model8 = load_model('backups/initial_model_50.h5')\n",
    "prediction8 = new_model8.predict(x_test)\n",
    "print(np.argmax(prediction8[0]))\n",
    "loss, accuracy = new_model8.evaluate(x_test, y_test, verbose=1)\n",
    "loss_v, accuracy_v = new_model8.evaluate(x_validate, y_validate, verbose=1)\n",
    "print(\"Validation: accuracy = %f  ;  loss_v = %f\" % (accuracy_v, loss_v))\n",
    "print(\"Test: accuracy = %f  ;  loss = %f\" % (accuracy, loss))"
   ]
  },
  {
   "cell_type": "code",
   "execution_count": null,
   "metadata": {},
   "outputs": [],
   "source": []
  }
 ],
 "metadata": {
  "kernelspec": {
   "display_name": "Python 3",
   "language": "python",
   "name": "python3"
  },
  "language_info": {
   "codemirror_mode": {
    "name": "ipython",
    "version": 3
   },
   "file_extension": ".py",
   "mimetype": "text/x-python",
   "name": "python",
   "nbconvert_exporter": "python",
   "pygments_lexer": "ipython3",
   "version": "3.6.5"
  }
 },
 "nbformat": 4,
 "nbformat_minor": 2
}
