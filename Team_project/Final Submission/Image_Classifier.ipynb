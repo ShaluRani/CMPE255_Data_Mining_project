{
 "cells": [
  {
   "cell_type": "code",
   "execution_count": 1,
   "metadata": {},
   "outputs": [],
   "source": [
    "import os\n",
    "from glob import glob\n",
    "import pandas as pd\n",
    "import numpy as np"
   ]
  },
  {
   "cell_type": "code",
   "execution_count": 2,
   "metadata": {},
   "outputs": [],
   "source": [
    "root = 'data'\n",
    "pathCsv = os.path.join(root, 'HAM10000_metadata.csv')\n",
    "df = pd.read_csv(pathCsv)"
   ]
  },
  {
   "cell_type": "code",
   "execution_count": 3,
   "metadata": {},
   "outputs": [
    {
     "data": {
      "text/html": [
       "<div>\n",
       "<style scoped>\n",
       "    .dataframe tbody tr th:only-of-type {\n",
       "        vertical-align: middle;\n",
       "    }\n",
       "\n",
       "    .dataframe tbody tr th {\n",
       "        vertical-align: top;\n",
       "    }\n",
       "\n",
       "    .dataframe thead th {\n",
       "        text-align: right;\n",
       "    }\n",
       "</style>\n",
       "<table border=\"1\" class=\"dataframe\">\n",
       "  <thead>\n",
       "    <tr style=\"text-align: right;\">\n",
       "      <th></th>\n",
       "      <th>lesion_id</th>\n",
       "      <th>image_id</th>\n",
       "      <th>dx</th>\n",
       "      <th>dx_type</th>\n",
       "      <th>age</th>\n",
       "      <th>sex</th>\n",
       "      <th>localization</th>\n",
       "    </tr>\n",
       "  </thead>\n",
       "  <tbody>\n",
       "    <tr>\n",
       "      <th>0</th>\n",
       "      <td>HAM_0000118</td>\n",
       "      <td>ISIC_0027419</td>\n",
       "      <td>bkl</td>\n",
       "      <td>histo</td>\n",
       "      <td>80.0</td>\n",
       "      <td>male</td>\n",
       "      <td>scalp</td>\n",
       "    </tr>\n",
       "    <tr>\n",
       "      <th>1</th>\n",
       "      <td>HAM_0000118</td>\n",
       "      <td>ISIC_0025030</td>\n",
       "      <td>bkl</td>\n",
       "      <td>histo</td>\n",
       "      <td>80.0</td>\n",
       "      <td>male</td>\n",
       "      <td>scalp</td>\n",
       "    </tr>\n",
       "    <tr>\n",
       "      <th>2</th>\n",
       "      <td>HAM_0002730</td>\n",
       "      <td>ISIC_0026769</td>\n",
       "      <td>bkl</td>\n",
       "      <td>histo</td>\n",
       "      <td>80.0</td>\n",
       "      <td>male</td>\n",
       "      <td>scalp</td>\n",
       "    </tr>\n",
       "    <tr>\n",
       "      <th>3</th>\n",
       "      <td>HAM_0002730</td>\n",
       "      <td>ISIC_0025661</td>\n",
       "      <td>bkl</td>\n",
       "      <td>histo</td>\n",
       "      <td>80.0</td>\n",
       "      <td>male</td>\n",
       "      <td>scalp</td>\n",
       "    </tr>\n",
       "    <tr>\n",
       "      <th>4</th>\n",
       "      <td>HAM_0001466</td>\n",
       "      <td>ISIC_0031633</td>\n",
       "      <td>bkl</td>\n",
       "      <td>histo</td>\n",
       "      <td>75.0</td>\n",
       "      <td>male</td>\n",
       "      <td>ear</td>\n",
       "    </tr>\n",
       "  </tbody>\n",
       "</table>\n",
       "</div>"
      ],
      "text/plain": [
       "     lesion_id      image_id   dx dx_type   age   sex localization\n",
       "0  HAM_0000118  ISIC_0027419  bkl   histo  80.0  male        scalp\n",
       "1  HAM_0000118  ISIC_0025030  bkl   histo  80.0  male        scalp\n",
       "2  HAM_0002730  ISIC_0026769  bkl   histo  80.0  male        scalp\n",
       "3  HAM_0002730  ISIC_0025661  bkl   histo  80.0  male        scalp\n",
       "4  HAM_0001466  ISIC_0031633  bkl   histo  75.0  male          ear"
      ]
     },
     "execution_count": 3,
     "metadata": {},
     "output_type": "execute_result"
    }
   ],
   "source": [
    "df.head()"
   ]
  },
  {
   "cell_type": "code",
   "execution_count": 4,
   "metadata": {},
   "outputs": [
    {
     "data": {
      "text/plain": [
       "lesion_id        0\n",
       "image_id         0\n",
       "dx               0\n",
       "dx_type          0\n",
       "age             57\n",
       "sex              0\n",
       "localization     0\n",
       "dtype: int64"
      ]
     },
     "execution_count": 4,
     "metadata": {},
     "output_type": "execute_result"
    }
   ],
   "source": [
    "df.isnull().sum()"
   ]
  },
  {
   "cell_type": "code",
   "execution_count": 5,
   "metadata": {},
   "outputs": [
    {
     "data": {
      "text/plain": [
       "lesion_id       0\n",
       "image_id        0\n",
       "dx              0\n",
       "dx_type         0\n",
       "age             0\n",
       "sex             0\n",
       "localization    0\n",
       "dtype: int64"
      ]
     },
     "execution_count": 5,
     "metadata": {},
     "output_type": "execute_result"
    }
   ],
   "source": [
    "df['age'].fillna((df['age'].mean()), inplace=True)\n",
    "df.isnull().sum()"
   ]
  },
  {
   "cell_type": "code",
   "execution_count": 6,
   "metadata": {},
   "outputs": [],
   "source": [
    "df['Class'] = pd.Categorical(df['dx']).codes\n",
    "\n",
    "Path = {}\n",
    "for item in glob(os.path.join(root, 'reshaped', '*.jpg')):\n",
    "    filename = os.path.splitext(os.path.basename(item))[0]\n",
    "    Path[filename] = item\n",
    "\n",
    "df['path'] = df['image_id'].map(Path.get)"
   ]
  },
  {
   "cell_type": "code",
   "execution_count": 7,
   "metadata": {},
   "outputs": [
    {
     "data": {
      "text/html": [
       "<div>\n",
       "<style scoped>\n",
       "    .dataframe tbody tr th:only-of-type {\n",
       "        vertical-align: middle;\n",
       "    }\n",
       "\n",
       "    .dataframe tbody tr th {\n",
       "        vertical-align: top;\n",
       "    }\n",
       "\n",
       "    .dataframe thead th {\n",
       "        text-align: right;\n",
       "    }\n",
       "</style>\n",
       "<table border=\"1\" class=\"dataframe\">\n",
       "  <thead>\n",
       "    <tr style=\"text-align: right;\">\n",
       "      <th></th>\n",
       "      <th>lesion_id</th>\n",
       "      <th>image_id</th>\n",
       "      <th>dx</th>\n",
       "      <th>dx_type</th>\n",
       "      <th>age</th>\n",
       "      <th>sex</th>\n",
       "      <th>localization</th>\n",
       "      <th>Class</th>\n",
       "      <th>path</th>\n",
       "    </tr>\n",
       "  </thead>\n",
       "  <tbody>\n",
       "    <tr>\n",
       "      <th>0</th>\n",
       "      <td>HAM_0000118</td>\n",
       "      <td>ISIC_0027419</td>\n",
       "      <td>bkl</td>\n",
       "      <td>histo</td>\n",
       "      <td>80.0</td>\n",
       "      <td>male</td>\n",
       "      <td>scalp</td>\n",
       "      <td>2</td>\n",
       "      <td>data/reshaped/ISIC_0027419.jpg</td>\n",
       "    </tr>\n",
       "    <tr>\n",
       "      <th>1</th>\n",
       "      <td>HAM_0000118</td>\n",
       "      <td>ISIC_0025030</td>\n",
       "      <td>bkl</td>\n",
       "      <td>histo</td>\n",
       "      <td>80.0</td>\n",
       "      <td>male</td>\n",
       "      <td>scalp</td>\n",
       "      <td>2</td>\n",
       "      <td>data/reshaped/ISIC_0025030.jpg</td>\n",
       "    </tr>\n",
       "    <tr>\n",
       "      <th>2</th>\n",
       "      <td>HAM_0002730</td>\n",
       "      <td>ISIC_0026769</td>\n",
       "      <td>bkl</td>\n",
       "      <td>histo</td>\n",
       "      <td>80.0</td>\n",
       "      <td>male</td>\n",
       "      <td>scalp</td>\n",
       "      <td>2</td>\n",
       "      <td>data/reshaped/ISIC_0026769.jpg</td>\n",
       "    </tr>\n",
       "    <tr>\n",
       "      <th>3</th>\n",
       "      <td>HAM_0002730</td>\n",
       "      <td>ISIC_0025661</td>\n",
       "      <td>bkl</td>\n",
       "      <td>histo</td>\n",
       "      <td>80.0</td>\n",
       "      <td>male</td>\n",
       "      <td>scalp</td>\n",
       "      <td>2</td>\n",
       "      <td>data/reshaped/ISIC_0025661.jpg</td>\n",
       "    </tr>\n",
       "    <tr>\n",
       "      <th>4</th>\n",
       "      <td>HAM_0001466</td>\n",
       "      <td>ISIC_0031633</td>\n",
       "      <td>bkl</td>\n",
       "      <td>histo</td>\n",
       "      <td>75.0</td>\n",
       "      <td>male</td>\n",
       "      <td>ear</td>\n",
       "      <td>2</td>\n",
       "      <td>data/reshaped/ISIC_0031633.jpg</td>\n",
       "    </tr>\n",
       "  </tbody>\n",
       "</table>\n",
       "</div>"
      ],
      "text/plain": [
       "     lesion_id      image_id   dx dx_type   age   sex localization  Class  \\\n",
       "0  HAM_0000118  ISIC_0027419  bkl   histo  80.0  male        scalp      2   \n",
       "1  HAM_0000118  ISIC_0025030  bkl   histo  80.0  male        scalp      2   \n",
       "2  HAM_0002730  ISIC_0026769  bkl   histo  80.0  male        scalp      2   \n",
       "3  HAM_0002730  ISIC_0025661  bkl   histo  80.0  male        scalp      2   \n",
       "4  HAM_0001466  ISIC_0031633  bkl   histo  75.0  male          ear      2   \n",
       "\n",
       "                             path  \n",
       "0  data/reshaped/ISIC_0027419.jpg  \n",
       "1  data/reshaped/ISIC_0025030.jpg  \n",
       "2  data/reshaped/ISIC_0026769.jpg  \n",
       "3  data/reshaped/ISIC_0025661.jpg  \n",
       "4  data/reshaped/ISIC_0031633.jpg  "
      ]
     },
     "execution_count": 7,
     "metadata": {},
     "output_type": "execute_result"
    }
   ],
   "source": [
    "df.head()"
   ]
  },
  {
   "cell_type": "code",
   "execution_count": 8,
   "metadata": {},
   "outputs": [
    {
     "name": "stdout",
     "output_type": "stream",
     "text": [
      "lesion_id        object\n",
      "image_id         object\n",
      "dx               object\n",
      "dx_type          object\n",
      "age             float64\n",
      "sex              object\n",
      "localization     object\n",
      "Class              int8\n",
      "path             object\n",
      "dtype: object\n"
     ]
    }
   ],
   "source": [
    "print(df.dtypes)"
   ]
  },
  {
   "cell_type": "code",
   "execution_count": 9,
   "metadata": {},
   "outputs": [
    {
     "data": {
      "text/html": [
       "<div>\n",
       "<style scoped>\n",
       "    .dataframe tbody tr th:only-of-type {\n",
       "        vertical-align: middle;\n",
       "    }\n",
       "\n",
       "    .dataframe tbody tr th {\n",
       "        vertical-align: top;\n",
       "    }\n",
       "\n",
       "    .dataframe thead th {\n",
       "        text-align: right;\n",
       "    }\n",
       "</style>\n",
       "<table border=\"1\" class=\"dataframe\">\n",
       "  <thead>\n",
       "    <tr style=\"text-align: right;\">\n",
       "      <th></th>\n",
       "      <th>lesion_id</th>\n",
       "      <th>image_id</th>\n",
       "      <th>dx</th>\n",
       "      <th>dx_type</th>\n",
       "      <th>age</th>\n",
       "      <th>sex</th>\n",
       "      <th>localization</th>\n",
       "      <th>Class</th>\n",
       "      <th>path</th>\n",
       "      <th>image</th>\n",
       "    </tr>\n",
       "  </thead>\n",
       "  <tbody>\n",
       "    <tr>\n",
       "      <th>0</th>\n",
       "      <td>HAM_0000118</td>\n",
       "      <td>ISIC_0027419</td>\n",
       "      <td>bkl</td>\n",
       "      <td>histo</td>\n",
       "      <td>80.0</td>\n",
       "      <td>male</td>\n",
       "      <td>scalp</td>\n",
       "      <td>2</td>\n",
       "      <td>data/reshaped/ISIC_0027419.jpg</td>\n",
       "      <td>[[[190, 155, 188], [190, 155, 188], [190, 154,...</td>\n",
       "    </tr>\n",
       "    <tr>\n",
       "      <th>1</th>\n",
       "      <td>HAM_0000118</td>\n",
       "      <td>ISIC_0025030</td>\n",
       "      <td>bkl</td>\n",
       "      <td>histo</td>\n",
       "      <td>80.0</td>\n",
       "      <td>male</td>\n",
       "      <td>scalp</td>\n",
       "      <td>2</td>\n",
       "      <td>data/reshaped/ISIC_0025030.jpg</td>\n",
       "      <td>[[[22, 15, 33], [20, 11, 30], [25, 13, 33], [3...</td>\n",
       "    </tr>\n",
       "    <tr>\n",
       "      <th>2</th>\n",
       "      <td>HAM_0002730</td>\n",
       "      <td>ISIC_0026769</td>\n",
       "      <td>bkl</td>\n",
       "      <td>histo</td>\n",
       "      <td>80.0</td>\n",
       "      <td>male</td>\n",
       "      <td>scalp</td>\n",
       "      <td>2</td>\n",
       "      <td>data/reshaped/ISIC_0026769.jpg</td>\n",
       "      <td>[[[175, 127, 141], [181, 131, 143], [192, 138,...</td>\n",
       "    </tr>\n",
       "    <tr>\n",
       "      <th>3</th>\n",
       "      <td>HAM_0002730</td>\n",
       "      <td>ISIC_0025661</td>\n",
       "      <td>bkl</td>\n",
       "      <td>histo</td>\n",
       "      <td>80.0</td>\n",
       "      <td>male</td>\n",
       "      <td>scalp</td>\n",
       "      <td>2</td>\n",
       "      <td>data/reshaped/ISIC_0025661.jpg</td>\n",
       "      <td>[[[29, 9, 18], [28, 9, 15], [44, 21, 27], [56,...</td>\n",
       "    </tr>\n",
       "    <tr>\n",
       "      <th>4</th>\n",
       "      <td>HAM_0001466</td>\n",
       "      <td>ISIC_0031633</td>\n",
       "      <td>bkl</td>\n",
       "      <td>histo</td>\n",
       "      <td>75.0</td>\n",
       "      <td>male</td>\n",
       "      <td>ear</td>\n",
       "      <td>2</td>\n",
       "      <td>data/reshaped/ISIC_0031633.jpg</td>\n",
       "      <td>[[[133, 87, 113], [151, 103, 129], [163, 115, ...</td>\n",
       "    </tr>\n",
       "  </tbody>\n",
       "</table>\n",
       "</div>"
      ],
      "text/plain": [
       "     lesion_id      image_id   dx dx_type   age   sex localization  Class  \\\n",
       "0  HAM_0000118  ISIC_0027419  bkl   histo  80.0  male        scalp      2   \n",
       "1  HAM_0000118  ISIC_0025030  bkl   histo  80.0  male        scalp      2   \n",
       "2  HAM_0002730  ISIC_0026769  bkl   histo  80.0  male        scalp      2   \n",
       "3  HAM_0002730  ISIC_0025661  bkl   histo  80.0  male        scalp      2   \n",
       "4  HAM_0001466  ISIC_0031633  bkl   histo  75.0  male          ear      2   \n",
       "\n",
       "                             path  \\\n",
       "0  data/reshaped/ISIC_0027419.jpg   \n",
       "1  data/reshaped/ISIC_0025030.jpg   \n",
       "2  data/reshaped/ISIC_0026769.jpg   \n",
       "3  data/reshaped/ISIC_0025661.jpg   \n",
       "4  data/reshaped/ISIC_0031633.jpg   \n",
       "\n",
       "                                               image  \n",
       "0  [[[190, 155, 188], [190, 155, 188], [190, 154,...  \n",
       "1  [[[22, 15, 33], [20, 11, 30], [25, 13, 33], [3...  \n",
       "2  [[[175, 127, 141], [181, 131, 143], [192, 138,...  \n",
       "3  [[[29, 9, 18], [28, 9, 15], [44, 21, 27], [56,...  \n",
       "4  [[[133, 87, 113], [151, 103, 129], [163, 115, ...  "
      ]
     },
     "execution_count": 9,
     "metadata": {},
     "output_type": "execute_result"
    }
   ],
   "source": [
    "from PIL import Image\n",
    "df['image'] = df['path'].map(lambda x: np.asarray(Image.open(x)))\n",
    "df.head()"
   ]
  },
  {
   "cell_type": "code",
   "execution_count": 10,
   "metadata": {},
   "outputs": [
    {
     "data": {
      "text/plain": [
       "nv       6705\n",
       "mel      1113\n",
       "bkl      1099\n",
       "bcc       514\n",
       "akiec     327\n",
       "vasc      142\n",
       "df        115\n",
       "Name: dx, dtype: int64"
      ]
     },
     "execution_count": 10,
     "metadata": {},
     "output_type": "execute_result"
    }
   ],
   "source": [
    "df['dx'].value_counts()"
   ]
  },
  {
   "cell_type": "code",
   "execution_count": 11,
   "metadata": {},
   "outputs": [
    {
     "data": {
      "text/html": [
       "<div>\n",
       "<style scoped>\n",
       "    .dataframe tbody tr th:only-of-type {\n",
       "        vertical-align: middle;\n",
       "    }\n",
       "\n",
       "    .dataframe tbody tr th {\n",
       "        vertical-align: top;\n",
       "    }\n",
       "\n",
       "    .dataframe thead th {\n",
       "        text-align: right;\n",
       "    }\n",
       "</style>\n",
       "<table border=\"1\" class=\"dataframe\">\n",
       "  <thead>\n",
       "    <tr style=\"text-align: right;\">\n",
       "      <th></th>\n",
       "      <th>lesion_id</th>\n",
       "      <th>image_id</th>\n",
       "      <th>dx</th>\n",
       "      <th>dx_type</th>\n",
       "      <th>age</th>\n",
       "      <th>sex</th>\n",
       "      <th>localization</th>\n",
       "      <th>Class</th>\n",
       "      <th>path</th>\n",
       "      <th>image</th>\n",
       "    </tr>\n",
       "  </thead>\n",
       "  <tbody>\n",
       "    <tr>\n",
       "      <th>1095</th>\n",
       "      <td>HAM_0005276</td>\n",
       "      <td>ISIC_0027008</td>\n",
       "      <td>df</td>\n",
       "      <td>histo</td>\n",
       "      <td>75.0</td>\n",
       "      <td>male</td>\n",
       "      <td>back</td>\n",
       "      <td>3</td>\n",
       "      <td>data/reshaped/ISIC_0027008.jpg</td>\n",
       "      <td>[[[155, 110, 105], [166, 121, 116], [178, 133,...</td>\n",
       "    </tr>\n",
       "    <tr>\n",
       "      <th>1096</th>\n",
       "      <td>HAM_0005276</td>\n",
       "      <td>ISIC_0028790</td>\n",
       "      <td>df</td>\n",
       "      <td>histo</td>\n",
       "      <td>75.0</td>\n",
       "      <td>male</td>\n",
       "      <td>back</td>\n",
       "      <td>3</td>\n",
       "      <td>data/reshaped/ISIC_0028790.jpg</td>\n",
       "      <td>[[[205, 159, 169], [212, 167, 174], [217, 170,...</td>\n",
       "    </tr>\n",
       "    <tr>\n",
       "      <th>1097</th>\n",
       "      <td>HAM_0004103</td>\n",
       "      <td>ISIC_0028880</td>\n",
       "      <td>df</td>\n",
       "      <td>histo</td>\n",
       "      <td>55.0</td>\n",
       "      <td>male</td>\n",
       "      <td>lower extremity</td>\n",
       "      <td>3</td>\n",
       "      <td>data/reshaped/ISIC_0028880.jpg</td>\n",
       "      <td>[[[221, 187, 212], [223, 189, 214], [223, 190,...</td>\n",
       "    </tr>\n",
       "    <tr>\n",
       "      <th>1098</th>\n",
       "      <td>HAM_0004103</td>\n",
       "      <td>ISIC_0031309</td>\n",
       "      <td>df</td>\n",
       "      <td>histo</td>\n",
       "      <td>55.0</td>\n",
       "      <td>male</td>\n",
       "      <td>lower extremity</td>\n",
       "      <td>3</td>\n",
       "      <td>data/reshaped/ISIC_0031309.jpg</td>\n",
       "      <td>[[[30, 14, 25], [46, 28, 40], [63, 45, 57], [8...</td>\n",
       "    </tr>\n",
       "    <tr>\n",
       "      <th>1099</th>\n",
       "      <td>HAM_0001164</td>\n",
       "      <td>ISIC_0030021</td>\n",
       "      <td>df</td>\n",
       "      <td>histo</td>\n",
       "      <td>50.0</td>\n",
       "      <td>female</td>\n",
       "      <td>upper extremity</td>\n",
       "      <td>3</td>\n",
       "      <td>data/reshaped/ISIC_0030021.jpg</td>\n",
       "      <td>[[[198, 155, 162], [198, 155, 162], [198, 155,...</td>\n",
       "    </tr>\n",
       "  </tbody>\n",
       "</table>\n",
       "</div>"
      ],
      "text/plain": [
       "        lesion_id      image_id  dx dx_type   age     sex     localization  \\\n",
       "1095  HAM_0005276  ISIC_0027008  df   histo  75.0    male             back   \n",
       "1096  HAM_0005276  ISIC_0028790  df   histo  75.0    male             back   \n",
       "1097  HAM_0004103  ISIC_0028880  df   histo  55.0    male  lower extremity   \n",
       "1098  HAM_0004103  ISIC_0031309  df   histo  55.0    male  lower extremity   \n",
       "1099  HAM_0001164  ISIC_0030021  df   histo  50.0  female  upper extremity   \n",
       "\n",
       "      Class                            path  \\\n",
       "1095      3  data/reshaped/ISIC_0027008.jpg   \n",
       "1096      3  data/reshaped/ISIC_0028790.jpg   \n",
       "1097      3  data/reshaped/ISIC_0028880.jpg   \n",
       "1098      3  data/reshaped/ISIC_0031309.jpg   \n",
       "1099      3  data/reshaped/ISIC_0030021.jpg   \n",
       "\n",
       "                                                  image  \n",
       "1095  [[[155, 110, 105], [166, 121, 116], [178, 133,...  \n",
       "1096  [[[205, 159, 169], [212, 167, 174], [217, 170,...  \n",
       "1097  [[[221, 187, 212], [223, 189, 214], [223, 190,...  \n",
       "1098  [[[30, 14, 25], [46, 28, 40], [63, 45, 57], [8...  \n",
       "1099  [[[198, 155, 162], [198, 155, 162], [198, 155,...  "
      ]
     },
     "execution_count": 11,
     "metadata": {},
     "output_type": "execute_result"
    }
   ],
   "source": [
    "df_nv = df[df.dx=='nv']\n",
    "df_mel = df[df.dx=='mel']\n",
    "df_bkl = df[df.dx=='bkl']\n",
    "df_bcc = df[df.dx=='bcc']\n",
    "df_akiec = df[df.dx=='akiec']\n",
    "df_vasc = df[df.dx=='vasc']\n",
    "df_df = df[df.dx=='df']\n",
    "df_df.head()"
   ]
  },
  {
   "cell_type": "code",
   "execution_count": 12,
   "metadata": {},
   "outputs": [],
   "source": [
    "from sklearn.utils import resample\n",
    "\n",
    "df_df_upsample = resample(df_df, \n",
    "                                 replace=True,     \n",
    "                                 n_samples=1500,    \n",
    "                                 random_state=123)\n",
    "df_nv_downsample = resample(df_nv, \n",
    "                                 replace=True,     \n",
    "                                 n_samples=1500,    \n",
    "                                 random_state=123)\n",
    "df_mel_upsample = resample(df_mel, \n",
    "                                 replace=True,     \n",
    "                                 n_samples=1500,    \n",
    "                                 random_state=123)\n",
    "df_bkl_upsample = resample(df_bkl, \n",
    "                                 replace=True,     \n",
    "                                 n_samples=1500,    \n",
    "                                 random_state=123)\n",
    "df_bcc_upsample = resample(df_bcc, \n",
    "                                 replace=True,     \n",
    "                                 n_samples=1500,    \n",
    "                                 random_state=123)\n",
    "df_akiec_upsample = resample(df_akiec, \n",
    "                                 replace=True,     \n",
    "                                 n_samples=1500,    \n",
    "                                 random_state=123)\n",
    "df_vasc_upsample = resample(df_vasc, \n",
    "                                 replace=True,     \n",
    "                                 n_samples=1500,    \n",
    "                                 random_state=123)\n",
    "\n"
   ]
  },
  {
   "cell_type": "code",
   "execution_count": 13,
   "metadata": {},
   "outputs": [
    {
     "data": {
      "text/plain": [
       "Index(['lesion_id', 'image_id', 'dx', 'dx_type', 'age', 'sex', 'localization',\n",
       "       'Class', 'path', 'image'],\n",
       "      dtype='object')"
      ]
     },
     "execution_count": 13,
     "metadata": {},
     "output_type": "execute_result"
    }
   ],
   "source": [
    "df.columns"
   ]
  },
  {
   "cell_type": "code",
   "execution_count": 14,
   "metadata": {},
   "outputs": [],
   "source": [
    "df_resampled = pd.DataFrame(columns=['lesion_id', 'image_id', 'dx', 'dx_type', 'age', 'sex', 'localization',\n",
    "        'path', 'image'],\n",
    "      dtype='object')"
   ]
  },
  {
   "cell_type": "code",
   "execution_count": 15,
   "metadata": {},
   "outputs": [
    {
     "data": {
      "text/plain": [
       "(0, 9)"
      ]
     },
     "execution_count": 15,
     "metadata": {},
     "output_type": "execute_result"
    }
   ],
   "source": [
    "df_resampled.shape"
   ]
  },
  {
   "cell_type": "code",
   "execution_count": 16,
   "metadata": {},
   "outputs": [
    {
     "name": "stderr",
     "output_type": "stream",
     "text": [
      "/Users/shalu/anaconda3/lib/python3.6/site-packages/ipykernel_launcher.py:1: FutureWarning: Sorting because non-concatenation axis is not aligned. A future version\n",
      "of pandas will change to not sort by default.\n",
      "\n",
      "To accept the future behavior, pass 'sort=True'.\n",
      "\n",
      "To retain the current behavior and silence the warning, pass sort=False\n",
      "\n",
      "  \"\"\"Entry point for launching an IPython kernel.\n"
     ]
    },
    {
     "data": {
      "text/plain": [
       "(1500, 10)"
      ]
     },
     "execution_count": 16,
     "metadata": {},
     "output_type": "execute_result"
    }
   ],
   "source": [
    "df_resampled = pd.concat([df_resampled, df_df_upsample])\n",
    "df_resampled.shape"
   ]
  },
  {
   "cell_type": "code",
   "execution_count": 17,
   "metadata": {},
   "outputs": [
    {
     "name": "stderr",
     "output_type": "stream",
     "text": [
      "/Users/shalu/anaconda3/lib/python3.6/site-packages/ipykernel_launcher.py:1: FutureWarning: Sorting because non-concatenation axis is not aligned. A future version\n",
      "of pandas will change to not sort by default.\n",
      "\n",
      "To accept the future behavior, pass 'sort=True'.\n",
      "\n",
      "To retain the current behavior and silence the warning, pass sort=False\n",
      "\n",
      "  \"\"\"Entry point for launching an IPython kernel.\n"
     ]
    },
    {
     "data": {
      "text/plain": [
       "(3000, 10)"
      ]
     },
     "execution_count": 17,
     "metadata": {},
     "output_type": "execute_result"
    }
   ],
   "source": [
    "df_resampled = pd.concat([df_resampled, df_nv_downsample])\n",
    "df_resampled.shape"
   ]
  },
  {
   "cell_type": "code",
   "execution_count": 18,
   "metadata": {},
   "outputs": [
    {
     "name": "stderr",
     "output_type": "stream",
     "text": [
      "/Users/shalu/anaconda3/lib/python3.6/site-packages/ipykernel_launcher.py:1: FutureWarning: Sorting because non-concatenation axis is not aligned. A future version\n",
      "of pandas will change to not sort by default.\n",
      "\n",
      "To accept the future behavior, pass 'sort=True'.\n",
      "\n",
      "To retain the current behavior and silence the warning, pass sort=False\n",
      "\n",
      "  \"\"\"Entry point for launching an IPython kernel.\n"
     ]
    },
    {
     "data": {
      "text/plain": [
       "(4500, 10)"
      ]
     },
     "execution_count": 18,
     "metadata": {},
     "output_type": "execute_result"
    }
   ],
   "source": [
    "df_resampled = pd.concat([df_resampled, df_mel_upsample])\n",
    "df_resampled.shape"
   ]
  },
  {
   "cell_type": "code",
   "execution_count": 19,
   "metadata": {},
   "outputs": [
    {
     "name": "stderr",
     "output_type": "stream",
     "text": [
      "/Users/shalu/anaconda3/lib/python3.6/site-packages/ipykernel_launcher.py:1: FutureWarning: Sorting because non-concatenation axis is not aligned. A future version\n",
      "of pandas will change to not sort by default.\n",
      "\n",
      "To accept the future behavior, pass 'sort=True'.\n",
      "\n",
      "To retain the current behavior and silence the warning, pass sort=False\n",
      "\n",
      "  \"\"\"Entry point for launching an IPython kernel.\n"
     ]
    },
    {
     "data": {
      "text/plain": [
       "(6000, 10)"
      ]
     },
     "execution_count": 19,
     "metadata": {},
     "output_type": "execute_result"
    }
   ],
   "source": [
    "df_resampled = pd.concat([df_resampled, df_bkl_upsample])\n",
    "df_resampled.shape"
   ]
  },
  {
   "cell_type": "code",
   "execution_count": 20,
   "metadata": {},
   "outputs": [
    {
     "name": "stderr",
     "output_type": "stream",
     "text": [
      "/Users/shalu/anaconda3/lib/python3.6/site-packages/ipykernel_launcher.py:1: FutureWarning: Sorting because non-concatenation axis is not aligned. A future version\n",
      "of pandas will change to not sort by default.\n",
      "\n",
      "To accept the future behavior, pass 'sort=True'.\n",
      "\n",
      "To retain the current behavior and silence the warning, pass sort=False\n",
      "\n",
      "  \"\"\"Entry point for launching an IPython kernel.\n"
     ]
    },
    {
     "data": {
      "text/plain": [
       "(7500, 10)"
      ]
     },
     "execution_count": 20,
     "metadata": {},
     "output_type": "execute_result"
    }
   ],
   "source": [
    "df_resampled = pd.concat([df_resampled, df_bcc_upsample])\n",
    "df_resampled.shape"
   ]
  },
  {
   "cell_type": "code",
   "execution_count": 21,
   "metadata": {},
   "outputs": [
    {
     "name": "stderr",
     "output_type": "stream",
     "text": [
      "/Users/shalu/anaconda3/lib/python3.6/site-packages/ipykernel_launcher.py:1: FutureWarning: Sorting because non-concatenation axis is not aligned. A future version\n",
      "of pandas will change to not sort by default.\n",
      "\n",
      "To accept the future behavior, pass 'sort=True'.\n",
      "\n",
      "To retain the current behavior and silence the warning, pass sort=False\n",
      "\n",
      "  \"\"\"Entry point for launching an IPython kernel.\n"
     ]
    },
    {
     "data": {
      "text/plain": [
       "(9000, 10)"
      ]
     },
     "execution_count": 21,
     "metadata": {},
     "output_type": "execute_result"
    }
   ],
   "source": [
    "df_resampled = pd.concat([df_resampled, df_akiec_upsample])\n",
    "df_resampled.shape"
   ]
  },
  {
   "cell_type": "code",
   "execution_count": 22,
   "metadata": {},
   "outputs": [
    {
     "name": "stderr",
     "output_type": "stream",
     "text": [
      "/Users/shalu/anaconda3/lib/python3.6/site-packages/ipykernel_launcher.py:1: FutureWarning: Sorting because non-concatenation axis is not aligned. A future version\n",
      "of pandas will change to not sort by default.\n",
      "\n",
      "To accept the future behavior, pass 'sort=True'.\n",
      "\n",
      "To retain the current behavior and silence the warning, pass sort=False\n",
      "\n",
      "  \"\"\"Entry point for launching an IPython kernel.\n"
     ]
    },
    {
     "data": {
      "text/plain": [
       "(10500, 10)"
      ]
     },
     "execution_count": 22,
     "metadata": {},
     "output_type": "execute_result"
    }
   ],
   "source": [
    "df_resampled = pd.concat([df_resampled, df_vasc_upsample])\n",
    "df_resampled.shape"
   ]
  },
  {
   "cell_type": "code",
   "execution_count": 23,
   "metadata": {},
   "outputs": [
    {
     "data": {
      "text/plain": [
       "bkl      1500\n",
       "mel      1500\n",
       "akiec    1500\n",
       "nv       1500\n",
       "vasc     1500\n",
       "bcc      1500\n",
       "df       1500\n",
       "Name: dx, dtype: int64"
      ]
     },
     "execution_count": 23,
     "metadata": {},
     "output_type": "execute_result"
    }
   ],
   "source": [
    "df = df_resampled\n",
    "df['dx'].value_counts()"
   ]
  },
  {
   "cell_type": "code",
   "execution_count": 24,
   "metadata": {},
   "outputs": [
    {
     "data": {
      "text/plain": [
       "(10500, 10)"
      ]
     },
     "execution_count": 24,
     "metadata": {},
     "output_type": "execute_result"
    }
   ],
   "source": [
    "df.shape"
   ]
  },
  {
   "cell_type": "code",
   "execution_count": 25,
   "metadata": {},
   "outputs": [
    {
     "data": {
      "text/html": [
       "<div>\n",
       "<style scoped>\n",
       "    .dataframe tbody tr th:only-of-type {\n",
       "        vertical-align: middle;\n",
       "    }\n",
       "\n",
       "    .dataframe tbody tr th {\n",
       "        vertical-align: top;\n",
       "    }\n",
       "\n",
       "    .dataframe thead th {\n",
       "        text-align: right;\n",
       "    }\n",
       "</style>\n",
       "<table border=\"1\" class=\"dataframe\">\n",
       "  <thead>\n",
       "    <tr style=\"text-align: right;\">\n",
       "      <th></th>\n",
       "      <th>Class</th>\n",
       "      <th>age</th>\n",
       "      <th>dx</th>\n",
       "      <th>dx_type</th>\n",
       "      <th>image</th>\n",
       "      <th>image_id</th>\n",
       "      <th>lesion_id</th>\n",
       "      <th>localization</th>\n",
       "      <th>path</th>\n",
       "      <th>sex</th>\n",
       "    </tr>\n",
       "  </thead>\n",
       "  <tbody>\n",
       "    <tr>\n",
       "      <th>1204</th>\n",
       "      <td>3.0</td>\n",
       "      <td>35.0</td>\n",
       "      <td>df</td>\n",
       "      <td>consensus</td>\n",
       "      <td>[[[235, 175, 187], [231, 171, 183], [231, 171,...</td>\n",
       "      <td>ISIC_0025314</td>\n",
       "      <td>HAM_0000757</td>\n",
       "      <td>lower extremity</td>\n",
       "      <td>data/reshaped/ISIC_0025314.jpg</td>\n",
       "      <td>female</td>\n",
       "    </tr>\n",
       "    <tr>\n",
       "      <th>1161</th>\n",
       "      <td>3.0</td>\n",
       "      <td>40.0</td>\n",
       "      <td>df</td>\n",
       "      <td>consensus</td>\n",
       "      <td>[[[185, 159, 198], [182, 156, 195], [182, 156,...</td>\n",
       "      <td>ISIC_0024330</td>\n",
       "      <td>HAM_0006188</td>\n",
       "      <td>lower extremity</td>\n",
       "      <td>data/reshaped/ISIC_0024330.jpg</td>\n",
       "      <td>male</td>\n",
       "    </tr>\n",
       "    <tr>\n",
       "      <th>1187</th>\n",
       "      <td>3.0</td>\n",
       "      <td>60.0</td>\n",
       "      <td>df</td>\n",
       "      <td>consensus</td>\n",
       "      <td>[[[189, 133, 136], [190, 134, 137], [192, 135,...</td>\n",
       "      <td>ISIC_0026471</td>\n",
       "      <td>HAM_0006787</td>\n",
       "      <td>lower extremity</td>\n",
       "      <td>data/reshaped/ISIC_0026471.jpg</td>\n",
       "      <td>male</td>\n",
       "    </tr>\n",
       "    <tr>\n",
       "      <th>1193</th>\n",
       "      <td>3.0</td>\n",
       "      <td>55.0</td>\n",
       "      <td>df</td>\n",
       "      <td>consensus</td>\n",
       "      <td>[[[228, 157, 163], [227, 156, 162], [228, 157,...</td>\n",
       "      <td>ISIC_0030665</td>\n",
       "      <td>HAM_0005359</td>\n",
       "      <td>lower extremity</td>\n",
       "      <td>data/reshaped/ISIC_0030665.jpg</td>\n",
       "      <td>female</td>\n",
       "    </tr>\n",
       "    <tr>\n",
       "      <th>1197</th>\n",
       "      <td>3.0</td>\n",
       "      <td>65.0</td>\n",
       "      <td>df</td>\n",
       "      <td>consensus</td>\n",
       "      <td>[[[220, 147, 164], [220, 147, 164], [221, 148,...</td>\n",
       "      <td>ISIC_0026629</td>\n",
       "      <td>HAM_0004065</td>\n",
       "      <td>lower extremity</td>\n",
       "      <td>data/reshaped/ISIC_0026629.jpg</td>\n",
       "      <td>female</td>\n",
       "    </tr>\n",
       "  </tbody>\n",
       "</table>\n",
       "</div>"
      ],
      "text/plain": [
       "      Class   age  dx    dx_type  \\\n",
       "1204    3.0  35.0  df  consensus   \n",
       "1161    3.0  40.0  df  consensus   \n",
       "1187    3.0  60.0  df  consensus   \n",
       "1193    3.0  55.0  df  consensus   \n",
       "1197    3.0  65.0  df  consensus   \n",
       "\n",
       "                                                  image      image_id  \\\n",
       "1204  [[[235, 175, 187], [231, 171, 183], [231, 171,...  ISIC_0025314   \n",
       "1161  [[[185, 159, 198], [182, 156, 195], [182, 156,...  ISIC_0024330   \n",
       "1187  [[[189, 133, 136], [190, 134, 137], [192, 135,...  ISIC_0026471   \n",
       "1193  [[[228, 157, 163], [227, 156, 162], [228, 157,...  ISIC_0030665   \n",
       "1197  [[[220, 147, 164], [220, 147, 164], [221, 148,...  ISIC_0026629   \n",
       "\n",
       "        lesion_id     localization                            path     sex  \n",
       "1204  HAM_0000757  lower extremity  data/reshaped/ISIC_0025314.jpg  female  \n",
       "1161  HAM_0006188  lower extremity  data/reshaped/ISIC_0024330.jpg    male  \n",
       "1187  HAM_0006787  lower extremity  data/reshaped/ISIC_0026471.jpg    male  \n",
       "1193  HAM_0005359  lower extremity  data/reshaped/ISIC_0030665.jpg  female  \n",
       "1197  HAM_0004065  lower extremity  data/reshaped/ISIC_0026629.jpg  female  "
      ]
     },
     "execution_count": 25,
     "metadata": {},
     "output_type": "execute_result"
    }
   ],
   "source": [
    "df.head()"
   ]
  },
  {
   "cell_type": "code",
   "execution_count": 26,
   "metadata": {},
   "outputs": [],
   "source": [
    "df.to_csv('saved.csv')"
   ]
  },
  {
   "cell_type": "code",
   "execution_count": 27,
   "metadata": {},
   "outputs": [
    {
     "name": "stdout",
     "output_type": "stream",
     "text": [
      "Dimensions of image: (2,), number: 10500\n"
     ]
    }
   ],
   "source": [
    "temp = df['image'][1].shape\n",
    "count = 0\n",
    "for i in range(df.shape[0]):\n",
    "    count += 1\n",
    "print(\"Dimensions of image: {}, number: {}\".format(temp, count))\n",
    "    "
   ]
  },
  {
   "cell_type": "code",
   "execution_count": 28,
   "metadata": {},
   "outputs": [],
   "source": [
    "from sklearn.model_selection import train_test_split\n",
    "x=df.drop(['Class'],axis=1)\n",
    "y=df['Class']\n",
    "xTrain, xTest, yTrain, yTest  = train_test_split(x, y, test_size=0.20, random_state=42)"
   ]
  },
  {
   "cell_type": "code",
   "execution_count": 29,
   "metadata": {},
   "outputs": [],
   "source": [
    "x_train = np.asarray(xTrain['image'].tolist())\n",
    "x_test = np.asarray(xTest['image'].tolist())\n",
    "xTrainmean = np.mean(x_train)\n",
    "xTrainstd = np.std(x_train)\n",
    "xTestmean = np.mean(x_test)\n",
    "xTeststd = np.std(x_test)\n",
    "x_train = (x_train - xTrainmean)/xTrainstd\n",
    "x_test = (x_test - xTestmean)/xTeststd"
   ]
  },
  {
   "cell_type": "code",
   "execution_count": 30,
   "metadata": {},
   "outputs": [
    {
     "name": "stderr",
     "output_type": "stream",
     "text": [
      "/Users/shalu/anaconda3/lib/python3.6/site-packages/h5py/__init__.py:36: FutureWarning: Conversion of the second argument of issubdtype from `float` to `np.floating` is deprecated. In future, it will be treated as `np.float64 == np.dtype(float).type`.\n",
      "  from ._conv import register_converters as _register_converters\n",
      "Using TensorFlow backend.\n"
     ]
    }
   ],
   "source": [
    "import keras\n",
    "from keras.utils.np_utils import to_categorical\n",
    "\n",
    "y_train = to_categorical(yTrain, num_classes = 7)\n",
    "y_test = to_categorical(yTest, num_classes = 7)"
   ]
  },
  {
   "cell_type": "code",
   "execution_count": 31,
   "metadata": {},
   "outputs": [],
   "source": [
    "np.save(\"test_data_x\", x_test)\n",
    "np.save(\"test_data_y\", yTest)"
   ]
  },
  {
   "cell_type": "code",
   "execution_count": 32,
   "metadata": {},
   "outputs": [],
   "source": [
    "x_train, x_validate, y_train, y_validate = train_test_split(x_train, y_train, test_size = 0.1, random_state = 2)\n",
    "x_train = x_train.reshape(x_train.shape[0], *(75, 100, 3))\n",
    "x_test = x_test.reshape(x_test.shape[0], *(75, 100, 3))"
   ]
  },
  {
   "cell_type": "code",
   "execution_count": 33,
   "metadata": {},
   "outputs": [],
   "source": [
    "x_validate = x_validate.reshape(x_validate.shape[0], *(75, 100, 3))"
   ]
  },
  {
   "cell_type": "code",
   "execution_count": 34,
   "metadata": {},
   "outputs": [
    {
     "name": "stdout",
     "output_type": "stream",
     "text": [
      "_________________________________________________________________\n",
      "Layer (type)                 Output Shape              Param #   \n",
      "=================================================================\n",
      "conv2d_1 (Conv2D)            (None, 75, 100, 32)       896       \n",
      "_________________________________________________________________\n",
      "conv2d_2 (Conv2D)            (None, 75, 100, 32)       9248      \n",
      "_________________________________________________________________\n",
      "max_pooling2d_1 (MaxPooling2 (None, 37, 50, 32)        0         \n",
      "_________________________________________________________________\n",
      "dropout_1 (Dropout)          (None, 37, 50, 32)        0         \n",
      "_________________________________________________________________\n",
      "conv2d_3 (Conv2D)            (None, 37, 50, 64)        18496     \n",
      "_________________________________________________________________\n",
      "conv2d_4 (Conv2D)            (None, 37, 50, 64)        36928     \n",
      "_________________________________________________________________\n",
      "max_pooling2d_2 (MaxPooling2 (None, 18, 25, 64)        0         \n",
      "_________________________________________________________________\n",
      "dropout_2 (Dropout)          (None, 18, 25, 64)        0         \n",
      "_________________________________________________________________\n",
      "flatten_1 (Flatten)          (None, 28800)             0         \n",
      "_________________________________________________________________\n",
      "dense_1 (Dense)              (None, 128)               3686528   \n",
      "_________________________________________________________________\n",
      "dropout_3 (Dropout)          (None, 128)               0         \n",
      "_________________________________________________________________\n",
      "dense_2 (Dense)              (None, 7)                 903       \n",
      "=================================================================\n",
      "Total params: 3,752,999\n",
      "Trainable params: 3,752,999\n",
      "Non-trainable params: 0\n",
      "_________________________________________________________________\n"
     ]
    }
   ],
   "source": [
    "from keras.models import Sequential\n",
    "from keras.layers import Dense, Dropout, Flatten, Conv2D, MaxPool2D\n",
    "import itertools\n",
    "from keras.optimizers import Adam\n",
    "from keras.preprocessing.image import ImageDataGenerator\n",
    "from keras.callbacks import ReduceLROnPlateau\n",
    "\n",
    "dimensions = (75, 100, 3)\n",
    "Classes = 7\n",
    "\n",
    "model = Sequential()\n",
    "\n",
    "model.add(Conv2D(32, (3, 3),activation='relu',padding = 'Same',input_shape=dimensions))\n",
    "model.add(Conv2D(32, (3, 3), activation='relu',padding = 'Same',))\n",
    "model.add(MaxPool2D(pool_size = (2, 2)))\n",
    "model.add(Dropout(0.25))\n",
    "\n",
    "model.add(Conv2D(64, (3, 3), activation='relu',padding = 'Same'))\n",
    "model.add(Conv2D(64, (3, 3), activation='relu',padding = 'Same'))\n",
    "model.add(MaxPool2D(pool_size=(2, 2)))\n",
    "model.add(Dropout(0.40))\n",
    "\n",
    "model.add(Flatten())\n",
    "model.add(Dense(128, activation='relu'))\n",
    "model.add(Dropout(0.5))\n",
    "model.add(Dense(Classes, activation='softmax'))\n",
    "model.summary()"
   ]
  },
  {
   "cell_type": "code",
   "execution_count": 35,
   "metadata": {},
   "outputs": [],
   "source": [
    "Info = ImageDataGenerator(\n",
    "        featurewise_center=False, \n",
    "        samplewise_center=False, \n",
    "        featurewise_std_normalization=False,  \n",
    "        samplewise_std_normalization=False,\n",
    "        zca_whitening=False,\n",
    "        rotation_range=10, \n",
    "        zoom_range = 0.1, \n",
    "        width_shift_range=0.1, \n",
    "        height_shift_range=0.1, \n",
    "        horizontal_flip=False,\n",
    "        vertical_flip=False)\n",
    "\n",
    "Info.fit(x_train)"
   ]
  },
  {
   "cell_type": "code",
   "execution_count": 36,
   "metadata": {},
   "outputs": [
    {
     "name": "stdout",
     "output_type": "stream",
     "text": [
      "Epoch 1/75\n",
      "756/756 [==============================] - 209s 276ms/step - loss: 1.6992 - acc: 0.3165 - val_loss: 1.4382 - val_acc: 0.4571\n",
      "Epoch 2/75\n",
      "756/756 [==============================] - 203s 269ms/step - loss: 1.4384 - acc: 0.4362 - val_loss: 1.3800 - val_acc: 0.4607\n",
      "Epoch 3/75\n",
      "756/756 [==============================] - 200s 265ms/step - loss: 1.3340 - acc: 0.4860 - val_loss: 1.1928 - val_acc: 0.5476\n",
      "Epoch 4/75\n",
      "756/756 [==============================] - 201s 266ms/step - loss: 1.2614 - acc: 0.5086 - val_loss: 1.1034 - val_acc: 0.5810\n",
      "Epoch 5/75\n",
      "756/756 [==============================] - 206s 273ms/step - loss: 1.1958 - acc: 0.5415 - val_loss: 1.0776 - val_acc: 0.6155\n",
      "Epoch 6/75\n",
      "756/756 [==============================] - 202s 267ms/step - loss: 1.1399 - acc: 0.5664 - val_loss: 0.9602 - val_acc: 0.6357\n",
      "Epoch 7/75\n",
      "756/756 [==============================] - 202s 268ms/step - loss: 1.0985 - acc: 0.5803 - val_loss: 1.0207 - val_acc: 0.6381\n",
      "Epoch 8/75\n",
      "756/756 [==============================] - 201s 266ms/step - loss: 1.0528 - acc: 0.6042 - val_loss: 0.8831 - val_acc: 0.6774\n",
      "Epoch 9/75\n",
      "756/756 [==============================] - 203s 269ms/step - loss: 1.0014 - acc: 0.6172 - val_loss: 0.8748 - val_acc: 0.6929\n",
      "Epoch 10/75\n",
      "756/756 [==============================] - 5235s 7s/step - loss: 0.9823 - acc: 0.6308 - val_loss: 0.7849 - val_acc: 0.7238\n",
      "Epoch 11/75\n",
      "756/756 [==============================] - 208s 275ms/step - loss: 0.9526 - acc: 0.6437 - val_loss: 0.7514 - val_acc: 0.7274\n",
      "Epoch 12/75\n",
      "756/756 [==============================] - 209s 277ms/step - loss: 0.9147 - acc: 0.6611 - val_loss: 0.6960 - val_acc: 0.7440\n",
      "Epoch 13/75\n",
      "756/756 [==============================] - 205s 271ms/step - loss: 0.9002 - acc: 0.6624 - val_loss: 0.7666 - val_acc: 0.7262\n",
      "Epoch 14/75\n",
      "756/756 [==============================] - 213s 282ms/step - loss: 0.8492 - acc: 0.6753 - val_loss: 0.6963 - val_acc: 0.7595\n",
      "Epoch 15/75\n",
      "756/756 [==============================] - 211s 279ms/step - loss: 0.8345 - acc: 0.6861 - val_loss: 0.7304 - val_acc: 0.7321\n",
      "Epoch 16/75\n",
      "756/756 [==============================] - 210s 277ms/step - loss: 0.8159 - acc: 0.6909 - val_loss: 0.6885 - val_acc: 0.7571\n",
      "Epoch 17/75\n",
      "756/756 [==============================] - 199s 263ms/step - loss: 0.7982 - acc: 0.6925 - val_loss: 0.5991 - val_acc: 0.7833\n",
      "Epoch 18/75\n",
      "756/756 [==============================] - 198s 262ms/step - loss: 0.7615 - acc: 0.7079 - val_loss: 0.6721 - val_acc: 0.7560\n",
      "Epoch 19/75\n",
      "756/756 [==============================] - 199s 264ms/step - loss: 0.7540 - acc: 0.7167 - val_loss: 0.6193 - val_acc: 0.7762\n",
      "Epoch 20/75\n",
      "756/756 [==============================] - 204s 270ms/step - loss: 0.7362 - acc: 0.7233 - val_loss: 0.5536 - val_acc: 0.8107\n",
      "Epoch 21/75\n",
      "756/756 [==============================] - 208s 276ms/step - loss: 0.7285 - acc: 0.7291 - val_loss: 0.5707 - val_acc: 0.8000\n",
      "Epoch 22/75\n",
      "756/756 [==============================] - 203s 269ms/step - loss: 0.7140 - acc: 0.7368 - val_loss: 0.5979 - val_acc: 0.8012\n",
      "Epoch 23/75\n",
      "756/756 [==============================] - 200s 265ms/step - loss: 0.6720 - acc: 0.7417 - val_loss: 0.4776 - val_acc: 0.8107\n",
      "Epoch 24/75\n",
      "756/756 [==============================] - 199s 263ms/step - loss: 0.6895 - acc: 0.7430 - val_loss: 0.5017 - val_acc: 0.8190\n",
      "Epoch 25/75\n",
      "756/756 [==============================] - 199s 263ms/step - loss: 0.6614 - acc: 0.7556 - val_loss: 0.5439 - val_acc: 0.8036\n",
      "Epoch 26/75\n",
      "756/756 [==============================] - 199s 263ms/step - loss: 0.6475 - acc: 0.7602 - val_loss: 0.5007 - val_acc: 0.8202\n",
      "Epoch 27/75\n",
      "756/756 [==============================] - 200s 264ms/step - loss: 0.6255 - acc: 0.7620 - val_loss: 0.4502 - val_acc: 0.8131\n",
      "Epoch 28/75\n",
      "756/756 [==============================] - 204s 270ms/step - loss: 0.6433 - acc: 0.7611 - val_loss: 0.5025 - val_acc: 0.8167\n",
      "Epoch 29/75\n",
      "756/756 [==============================] - 201s 265ms/step - loss: 0.6334 - acc: 0.7593 - val_loss: 0.4321 - val_acc: 0.8512\n",
      "Epoch 30/75\n",
      "756/756 [==============================] - 200s 264ms/step - loss: 0.6157 - acc: 0.7720 - val_loss: 0.4447 - val_acc: 0.8321\n",
      "Epoch 31/75\n",
      "756/756 [==============================] - 201s 266ms/step - loss: 0.6058 - acc: 0.7696 - val_loss: 0.4640 - val_acc: 0.8286\n",
      "Epoch 32/75\n",
      "756/756 [==============================] - 199s 263ms/step - loss: 0.5934 - acc: 0.7725 - val_loss: 0.4849 - val_acc: 0.8262\n",
      "Epoch 33/75\n",
      "756/756 [==============================] - 199s 263ms/step - loss: 0.5649 - acc: 0.7899 - val_loss: 0.4086 - val_acc: 0.8631\n",
      "Epoch 34/75\n",
      "756/756 [==============================] - 199s 263ms/step - loss: 0.5689 - acc: 0.7828 - val_loss: 0.4178 - val_acc: 0.8488\n",
      "Epoch 35/75\n",
      "756/756 [==============================] - 199s 263ms/step - loss: 0.5560 - acc: 0.7909 - val_loss: 0.3832 - val_acc: 0.8595\n",
      "Epoch 36/75\n",
      "756/756 [==============================] - 199s 263ms/step - loss: 0.5575 - acc: 0.7954 - val_loss: 0.4053 - val_acc: 0.8488\n",
      "Epoch 37/75\n",
      "756/756 [==============================] - 200s 264ms/step - loss: 0.5327 - acc: 0.8020 - val_loss: 0.3992 - val_acc: 0.8536\n",
      "Epoch 38/75\n",
      "756/756 [==============================] - 202s 267ms/step - loss: 0.5237 - acc: 0.8073 - val_loss: 0.4610 - val_acc: 0.8250\n",
      "Epoch 39/75\n",
      "756/756 [==============================] - 200s 264ms/step - loss: 0.5335 - acc: 0.8011 - val_loss: 0.4223 - val_acc: 0.8524\n",
      "Epoch 40/75\n",
      "756/756 [==============================] - 200s 265ms/step - loss: 0.5206 - acc: 0.7999 - val_loss: 0.5091 - val_acc: 0.8298\n",
      "Epoch 41/75\n",
      "756/756 [==============================] - 216s 286ms/step - loss: 0.5124 - acc: 0.8040 - val_loss: 0.3997 - val_acc: 0.8500\n",
      "Epoch 42/75\n",
      "756/756 [==============================] - 213s 282ms/step - loss: 0.5069 - acc: 0.8120 - val_loss: 0.4124 - val_acc: 0.8595\n",
      "Epoch 43/75\n",
      "756/756 [==============================] - 220s 291ms/step - loss: 0.5063 - acc: 0.8085 - val_loss: 0.3932 - val_acc: 0.8655\n",
      "Epoch 44/75\n",
      "756/756 [==============================] - 207s 273ms/step - loss: 0.4887 - acc: 0.8200 - val_loss: 0.3789 - val_acc: 0.8595\n",
      "Epoch 45/75\n",
      "756/756 [==============================] - 207s 274ms/step - loss: 0.4938 - acc: 0.8184 - val_loss: 0.3869 - val_acc: 0.8548\n",
      "Epoch 46/75\n",
      "756/756 [==============================] - 212s 280ms/step - loss: 0.4909 - acc: 0.8097 - val_loss: 0.3514 - val_acc: 0.8845\n",
      "Epoch 47/75\n",
      "756/756 [==============================] - 202s 267ms/step - loss: 0.4800 - acc: 0.8164 - val_loss: 0.3823 - val_acc: 0.8667\n",
      "Epoch 48/75\n",
      "756/756 [==============================] - 226s 299ms/step - loss: 0.4687 - acc: 0.8210 - val_loss: 0.3600 - val_acc: 0.8738\n",
      "Epoch 49/75\n",
      "756/756 [==============================] - 216s 286ms/step - loss: 0.4600 - acc: 0.8284 - val_loss: 0.4587 - val_acc: 0.8357\n",
      "Epoch 50/75\n",
      "756/756 [==============================] - 222s 293ms/step - loss: 0.4722 - acc: 0.8231 - val_loss: 0.3098 - val_acc: 0.8964\n",
      "Epoch 51/75\n",
      "756/756 [==============================] - 220s 291ms/step - loss: 0.4662 - acc: 0.8262 - val_loss: 0.4078 - val_acc: 0.8643\n",
      "Epoch 52/75\n",
      "756/756 [==============================] - 219s 289ms/step - loss: 0.4593 - acc: 0.8271 - val_loss: 0.3369 - val_acc: 0.8845\n",
      "Epoch 53/75\n",
      "756/756 [==============================] - 219s 289ms/step - loss: 0.4511 - acc: 0.8295 - val_loss: 0.3412 - val_acc: 0.8798\n",
      "Epoch 54/75\n",
      "756/756 [==============================] - 217s 287ms/step - loss: 0.4354 - acc: 0.8372 - val_loss: 0.3678 - val_acc: 0.8845\n",
      "Epoch 55/75\n",
      "756/756 [==============================] - 210s 278ms/step - loss: 0.4294 - acc: 0.8386 - val_loss: 0.4194 - val_acc: 0.8619\n",
      "Epoch 56/75\n",
      "756/756 [==============================] - 206s 272ms/step - loss: 0.4431 - acc: 0.8343 - val_loss: 0.3252 - val_acc: 0.8774\n",
      "Epoch 57/75\n",
      "756/756 [==============================] - 206s 272ms/step - loss: 0.4407 - acc: 0.8385 - val_loss: 0.3571 - val_acc: 0.8774\n",
      "Epoch 58/75\n",
      "756/756 [==============================] - 206s 272ms/step - loss: 0.4210 - acc: 0.8398 - val_loss: 0.4402 - val_acc: 0.8560\n",
      "Epoch 59/75\n",
      "756/756 [==============================] - 212s 280ms/step - loss: 0.4182 - acc: 0.8349 - val_loss: 0.3844 - val_acc: 0.8607\n",
      "Epoch 60/75\n",
      "756/756 [==============================] - 221s 293ms/step - loss: 0.4227 - acc: 0.8417 - val_loss: 0.3232 - val_acc: 0.8929\n"
     ]
    },
    {
     "name": "stdout",
     "output_type": "stream",
     "text": [
      "Epoch 61/75\n",
      "756/756 [==============================] - 218s 288ms/step - loss: 0.4223 - acc: 0.8407 - val_loss: 0.3238 - val_acc: 0.9024\n",
      "Epoch 62/75\n",
      "756/756 [==============================] - 219s 290ms/step - loss: 0.4160 - acc: 0.8472 - val_loss: 0.3327 - val_acc: 0.8857\n",
      "Epoch 63/75\n",
      "756/756 [==============================] - 216s 286ms/step - loss: 0.4301 - acc: 0.8414 - val_loss: 0.3336 - val_acc: 0.8917\n",
      "Epoch 64/75\n",
      "756/756 [==============================] - 215s 285ms/step - loss: 0.3941 - acc: 0.8504 - val_loss: 0.3335 - val_acc: 0.8893\n",
      "Epoch 65/75\n",
      "756/756 [==============================] - 223s 295ms/step - loss: 0.4001 - acc: 0.8567 - val_loss: 0.3272 - val_acc: 0.8893\n",
      "Epoch 66/75\n",
      "756/756 [==============================] - 217s 287ms/step - loss: 0.4053 - acc: 0.8520 - val_loss: 0.3246 - val_acc: 0.8976\n",
      "Epoch 67/75\n",
      "756/756 [==============================] - 222s 294ms/step - loss: 0.3941 - acc: 0.8515 - val_loss: 0.3255 - val_acc: 0.8940\n",
      "Epoch 68/75\n",
      "756/756 [==============================] - 218s 288ms/step - loss: 0.3806 - acc: 0.8573 - val_loss: 0.3612 - val_acc: 0.8857\n",
      "Epoch 69/75\n",
      "756/756 [==============================] - 218s 288ms/step - loss: 0.3865 - acc: 0.8507 - val_loss: 0.3076 - val_acc: 0.8952\n",
      "Epoch 70/75\n",
      "756/756 [==============================] - 217s 288ms/step - loss: 0.3944 - acc: 0.8558 - val_loss: 0.3048 - val_acc: 0.8988\n",
      "Epoch 71/75\n",
      "756/756 [==============================] - 211s 279ms/step - loss: 0.3796 - acc: 0.8569 - val_loss: 0.3272 - val_acc: 0.9060\n",
      "Epoch 72/75\n",
      "756/756 [==============================] - 205s 272ms/step - loss: 0.3966 - acc: 0.8480 - val_loss: 0.3389 - val_acc: 0.8940\n",
      "Epoch 73/75\n",
      "756/756 [==============================] - 210s 278ms/step - loss: 0.3736 - acc: 0.8603 - val_loss: 0.3050 - val_acc: 0.9107\n",
      "Epoch 74/75\n",
      "756/756 [==============================] - 205s 272ms/step - loss: 0.3878 - acc: 0.8561 - val_loss: 0.3187 - val_acc: 0.8976\n",
      "Epoch 75/75\n",
      "756/756 [==============================] - 203s 269ms/step - loss: 0.3558 - acc: 0.8693 - val_loss: 0.3510 - val_acc: 0.8988\n"
     ]
    }
   ],
   "source": [
    "Adam_Optimizer = Adam(lr=0.001, beta_1=0.9, beta_2=0.999, epsilon=None, decay=0.0, amsgrad=False)\n",
    "SGD_optimizer = keras.optimizers.SGD(lr=0.01, momentum=0.0, decay=0.0, nesterov=False)\n",
    "model.compile(optimizer = SGD_optimizer , loss = \"categorical_crossentropy\", metrics=[\"accuracy\"])\n",
    "Lap = 75 \n",
    "Volume = 10\n",
    "history = model.fit_generator(Info.flow(x_train,y_train, batch_size=Volume),\n",
    "                              epochs = Lap, validation_data = (x_validate,y_validate),\n",
    "                              verbose = 1, steps_per_epoch=x_train.shape[0] // Volume\n",
    "                             )"
   ]
  },
  {
   "cell_type": "code",
   "execution_count": 37,
   "metadata": {},
   "outputs": [
    {
     "name": "stdout",
     "output_type": "stream",
     "text": [
      "2100/2100 [==============================] - 20s 9ms/step\n",
      "840/840 [==============================] - 8s 9ms/step\n",
      "Validation: accuracy = 0.898810  ;  loss_v = 0.350992\n",
      "Test: accuracy = 0.870952  ;  loss = 0.430865\n"
     ]
    }
   ],
   "source": [
    "loss, accuracy = model.evaluate(x_test, y_test, verbose=1)\n",
    "loss_v, accuracy_v = model.evaluate(x_validate, y_validate, verbose=1)\n",
    "print(\"Validation: accuracy = %f  ;  loss_v = %f\" % (accuracy_v, loss_v))\n",
    "print(\"Test: accuracy = %f  ;  loss = %f\" % (accuracy, loss))\n",
    "model.save(\"model_1500samples_50_keras_SGD.h5\")"
   ]
  },
  {
   "cell_type": "code",
   "execution_count": 38,
   "metadata": {},
   "outputs": [],
   "source": [
    "#1. Function to plot model's validation loss and validation accuracy\n",
    "import matplotlib.pyplot as plt\n",
    "def plot_model_history(model_history):\n",
    "    fig, axs = plt.subplots(1,2,figsize=(15,5))\n",
    "    # summarize history for accuracy\n",
    "    axs[0].plot(range(1,len(model_history.history['acc'])+1),model_history.history['acc'])\n",
    "    axs[0].plot(range(1,len(model_history.history['val_acc'])+1),model_history.history['val_acc'])\n",
    "    axs[0].set_title('Model Accuracy')\n",
    "    axs[0].set_ylabel('Accuracy')\n",
    "    axs[0].set_xlabel('Epoch')\n",
    "    axs[0].set_xticks(np.arange(1,len(model_history.history['acc'])+1),len(model_history.history['acc'])/10)\n",
    "    axs[0].legend(['train', 'val'], loc='best')\n",
    "    # summarize history for loss\n",
    "    axs[1].plot(range(1,len(model_history.history['loss'])+1),model_history.history['loss'])\n",
    "    axs[1].plot(range(1,len(model_history.history['val_loss'])+1),model_history.history['val_loss'])\n",
    "    axs[1].set_title('Model Loss')\n",
    "    axs[1].set_ylabel('Loss')\n",
    "    axs[1].set_xlabel('Epoch')\n",
    "    axs[1].set_xticks(np.arange(1,len(model_history.history['loss'])+1),len(model_history.history['loss'])/10)\n",
    "    axs[1].legend(['train', 'val'], loc='best')\n",
    "    plt.show()"
   ]
  },
  {
   "cell_type": "code",
   "execution_count": 39,
   "metadata": {},
   "outputs": [
    {
     "data": {
      "image/png": "[encoded data removed]",
      "text/plain": [
       "<Figure size 1080x360 with 2 Axes>"
      ]
     },
     "metadata": {},
     "output_type": "display_data"
    }
   ],
   "source": [
    "plot_model_history(history)"
   ]
  },
  {
   "cell_type": "code",
   "execution_count": null,
   "metadata": {},
   "outputs": [],
   "source": []
  }
 ],
 "metadata": {
  "kernelspec": {
   "display_name": "Python 3",
   "language": "python",
   "name": "python3"
  },
  "language_info": {
   "codemirror_mode": {
    "name": "ipython",
    "version": 3
   },
   "file_extension": ".py",
   "mimetype": "text/x-python",
   "name": "python",
   "nbconvert_exporter": "python",
   "pygments_lexer": "ipython3",
   "version": "3.7.2"
  }
 },
 "nbformat": 4,
 "nbformat_minor": 2
}
